{
 "cells": [
  {
   "cell_type": "code",
   "execution_count": 2,
   "id": "e37d0f79-0331-4195-9bec-42a36481aaf5",
   "metadata": {},
   "outputs": [],
   "source": [
    "import pandas as pd\n",
    "import numpy as np"
   ]
  },
  {
   "cell_type": "code",
   "execution_count": 3,
   "id": "4de75974-9570-4832-a98a-1e46fe25901a",
   "metadata": {},
   "outputs": [],
   "source": [
    "df=pd.read_csv(\"titles.csv\")"
   ]
  },
  {
   "cell_type": "code",
   "execution_count": 116,
   "id": "1e0fd948-a845-42ed-ae9e-d13d893e1382",
   "metadata": {},
   "outputs": [
    {
     "data": {
      "text/html": [
       "<div>\n",
       "<style scoped>\n",
       "    .dataframe tbody tr th:only-of-type {\n",
       "        vertical-align: middle;\n",
       "    }\n",
       "\n",
       "    .dataframe tbody tr th {\n",
       "        vertical-align: top;\n",
       "    }\n",
       "\n",
       "    .dataframe thead th {\n",
       "        text-align: right;\n",
       "    }\n",
       "</style>\n",
       "<table border=\"1\" class=\"dataframe\">\n",
       "  <thead>\n",
       "    <tr style=\"text-align: right;\">\n",
       "      <th></th>\n",
       "      <th>id</th>\n",
       "      <th>title</th>\n",
       "      <th>type</th>\n",
       "      <th>description</th>\n",
       "      <th>release_year</th>\n",
       "      <th>age_certification</th>\n",
       "      <th>runtime</th>\n",
       "      <th>genres</th>\n",
       "      <th>production_countries</th>\n",
       "      <th>seasons</th>\n",
       "      <th>imdb_id</th>\n",
       "      <th>imdb_score</th>\n",
       "      <th>imdb_votes</th>\n",
       "      <th>tmdb_popularity</th>\n",
       "      <th>tmdb_score</th>\n",
       "    </tr>\n",
       "  </thead>\n",
       "  <tbody>\n",
       "    <tr>\n",
       "      <th>0</th>\n",
       "      <td>ts300399</td>\n",
       "      <td>Five Came Back: The Reference Films</td>\n",
       "      <td>SHOW</td>\n",
       "      <td>This collection includes 12 World War II-era p...</td>\n",
       "      <td>1945</td>\n",
       "      <td>TV-MA</td>\n",
       "      <td>51</td>\n",
       "      <td>['documentation']</td>\n",
       "      <td>['US']</td>\n",
       "      <td>1.0</td>\n",
       "      <td>NaN</td>\n",
       "      <td>NaN</td>\n",
       "      <td>NaN</td>\n",
       "      <td>0.6</td>\n",
       "      <td>NaN</td>\n",
       "    </tr>\n",
       "  </tbody>\n",
       "</table>\n",
       "</div>"
      ],
      "text/plain": [
       "         id                                title  type  \\\n",
       "0  ts300399  Five Came Back: The Reference Films  SHOW   \n",
       "\n",
       "                                         description  release_year  \\\n",
       "0  This collection includes 12 World War II-era p...          1945   \n",
       "\n",
       "  age_certification  runtime             genres production_countries  seasons  \\\n",
       "0             TV-MA       51  ['documentation']               ['US']      1.0   \n",
       "\n",
       "  imdb_id  imdb_score  imdb_votes  tmdb_popularity  tmdb_score  \n",
       "0     NaN         NaN         NaN              0.6         NaN  "
      ]
     },
     "execution_count": 116,
     "metadata": {},
     "output_type": "execute_result"
    }
   ],
   "source": [
    "df.head(1)"
   ]
  },
  {
   "cell_type": "code",
   "execution_count": 22,
   "id": "89fd5658-19e8-4337-8db6-6af337bf7929",
   "metadata": {},
   "outputs": [
    {
     "data": {
      "text/plain": [
       "RangeIndex(start=0, stop=5850, step=1)"
      ]
     },
     "execution_count": 22,
     "metadata": {},
     "output_type": "execute_result"
    }
   ],
   "source": [
    "df.index"
   ]
  },
  {
   "cell_type": "markdown",
   "id": "5460201c-f2a5-47c6-839c-48ff680517c7",
   "metadata": {},
   "source": [
    "### Total no of movies =5850"
   ]
  },
  {
   "cell_type": "code",
   "execution_count": 11,
   "id": "7a3f68a7-f607-4e7b-8ee5-c7c803362399",
   "metadata": {},
   "outputs": [
    {
     "data": {
      "text/plain": [
       "Index(['id', 'title', 'type', 'description', 'release_year',\n",
       "       'age_certification', 'runtime', 'genres', 'production_countries',\n",
       "       'seasons', 'imdb_id', 'imdb_score', 'imdb_votes', 'tmdb_popularity',\n",
       "       'tmdb_score'],\n",
       "      dtype='object')"
      ]
     },
     "execution_count": 11,
     "metadata": {},
     "output_type": "execute_result"
    }
   ],
   "source": [
    "df.columns"
   ]
  },
  {
   "cell_type": "markdown",
   "id": "175932ef-047a-4dbc-9836-b54579cf472b",
   "metadata": {},
   "source": [
    "### Total number of columns = 15"
   ]
  },
  {
   "cell_type": "code",
   "execution_count": 13,
   "id": "e383940e-4563-415f-81ae-6d6d2d862c98",
   "metadata": {},
   "outputs": [
    {
     "data": {
      "text/plain": [
       "id                         0\n",
       "title                      1\n",
       "type                       0\n",
       "description               18\n",
       "release_year               0\n",
       "age_certification       2619\n",
       "runtime                    0\n",
       "genres                     0\n",
       "production_countries       0\n",
       "seasons                 3744\n",
       "imdb_id                  403\n",
       "imdb_score               482\n",
       "imdb_votes               498\n",
       "tmdb_popularity           91\n",
       "tmdb_score               311\n",
       "dtype: int64"
      ]
     },
     "execution_count": 13,
     "metadata": {},
     "output_type": "execute_result"
    }
   ],
   "source": [
    "df.isnull().sum()"
   ]
  },
  {
   "cell_type": "markdown",
   "id": "bcce4d7e-a38e-4167-a32a-a526702c029c",
   "metadata": {},
   "source": [
    "### Seasons is the column with larger number of missing values followed by age_certifications\n"
   ]
  },
  {
   "cell_type": "code",
   "execution_count": 106,
   "id": "6826aad5-94db-4b7a-8c4e-e4647c84eda2",
   "metadata": {},
   "outputs": [
    {
     "data": {
      "text/plain": [
       "np.int64(1221)"
      ]
     },
     "execution_count": 106,
     "metadata": {},
     "output_type": "execute_result"
    }
   ],
   "source": [
    "df[df[\"seasons\"]==1.0][\"id\"].count() "
   ]
  },
  {
   "cell_type": "markdown",
   "id": "917a8cca-247b-4605-962b-192f992900ba",
   "metadata": {},
   "source": [
    "### 1221 SHOWS has one season"
   ]
  },
  {
   "cell_type": "code",
   "execution_count": 107,
   "id": "f67ee2a0-7d56-43ce-ade5-b234a0c39bf9",
   "metadata": {},
   "outputs": [
    {
     "data": {
      "text/plain": [
       "np.int64(389)"
      ]
     },
     "execution_count": 107,
     "metadata": {},
     "output_type": "execute_result"
    }
   ],
   "source": [
    "df[df[\"seasons\"]==2.0][\"id\"].count()"
   ]
  },
  {
   "cell_type": "markdown",
   "id": "2f0e233b-4d8e-4e94-be76-443381108fb9",
   "metadata": {},
   "source": [
    "### 389 TV SHOWS has two seasons"
   ]
  },
  {
   "cell_type": "code",
   "execution_count": 108,
   "id": "e50a71f7-d598-4b17-a0d8-c6dde9cc0c50",
   "metadata": {},
   "outputs": [
    {
     "data": {
      "text/plain": [
       "np.int64(187)"
      ]
     },
     "execution_count": 108,
     "metadata": {},
     "output_type": "execute_result"
    }
   ],
   "source": [
    "df[df[\"seasons\"]==3.0][\"id\"].count()"
   ]
  },
  {
   "cell_type": "markdown",
   "id": "253e6fca-de40-4f26-a1b3-8ffda7056e03",
   "metadata": {},
   "source": [
    "### 187 SHOWS has three seasons"
   ]
  },
  {
   "cell_type": "code",
   "execution_count": 109,
   "id": "23ab3fd6-1c94-4c91-bb37-0e898c547ab8",
   "metadata": {},
   "outputs": [
    {
     "data": {
      "text/plain": [
       "np.int64(120)"
      ]
     },
     "execution_count": 109,
     "metadata": {},
     "output_type": "execute_result"
    }
   ],
   "source": [
    "df[df[\"seasons\"]==4.0][\"id\"].count()"
   ]
  },
  {
   "cell_type": "markdown",
   "id": "5fd7b502-0852-4d7f-a5b8-f202d487f906",
   "metadata": {},
   "source": [
    "### 120 shows has 4 seasons"
   ]
  },
  {
   "cell_type": "code",
   "execution_count": 110,
   "id": "2f0ddb4d-19b5-4f25-83ca-3c512644d59e",
   "metadata": {},
   "outputs": [
    {
     "data": {
      "text/plain": [
       "np.int64(189)"
      ]
     },
     "execution_count": 110,
     "metadata": {},
     "output_type": "execute_result"
    }
   ],
   "source": [
    "df[df[\"seasons\"]>4.0][\"id\"].count()"
   ]
  },
  {
   "cell_type": "code",
   "execution_count": 160,
   "id": "9667f052-cd2d-45d8-81fd-b2f696e70ce3",
   "metadata": {},
   "outputs": [
    {
     "data": {
      "text/plain": [
       "seasons\n",
       "1.0     1221\n",
       "2.0      389\n",
       "3.0      187\n",
       "4.0      120\n",
       "5.0       79\n",
       "6.0       36\n",
       "7.0       18\n",
       "8.0       11\n",
       "9.0        9\n",
       "11.0       8\n",
       "10.0       6\n",
       "12.0       4\n",
       "15.0       3\n",
       "24.0       2\n",
       "13.0       2\n",
       "25.0       1\n",
       "39.0       1\n",
       "42.0       1\n",
       "14.0       1\n",
       "21.0       1\n",
       "37.0       1\n",
       "29.0       1\n",
       "19.0       1\n",
       "32.0       1\n",
       "20.0       1\n",
       "16.0       1\n",
       "Name: count, dtype: int64"
      ]
     },
     "execution_count": 160,
     "metadata": {},
     "output_type": "execute_result"
    }
   ],
   "source": [
    "df[\"seasons\"].value_counts()"
   ]
  },
  {
   "cell_type": "markdown",
   "id": "98b711e5-910b-4e16-a667-58b8dd61b997",
   "metadata": {},
   "source": [
    "### 110 has more than 4 seasons"
   ]
  },
  {
   "cell_type": "code",
   "execution_count": 114,
   "id": "f4312699-f245-48e7-90eb-dd4740e40226",
   "metadata": {},
   "outputs": [
    {
     "data": {
      "text/html": [
       "<div>\n",
       "<style scoped>\n",
       "    .dataframe tbody tr th:only-of-type {\n",
       "        vertical-align: middle;\n",
       "    }\n",
       "\n",
       "    .dataframe tbody tr th {\n",
       "        vertical-align: top;\n",
       "    }\n",
       "\n",
       "    .dataframe thead th {\n",
       "        text-align: right;\n",
       "    }\n",
       "</style>\n",
       "<table border=\"1\" class=\"dataframe\">\n",
       "  <thead>\n",
       "    <tr style=\"text-align: right;\">\n",
       "      <th></th>\n",
       "      <th>id</th>\n",
       "      <th>title</th>\n",
       "      <th>type</th>\n",
       "      <th>description</th>\n",
       "      <th>release_year</th>\n",
       "      <th>age_certification</th>\n",
       "      <th>runtime</th>\n",
       "      <th>genres</th>\n",
       "      <th>production_countries</th>\n",
       "      <th>seasons</th>\n",
       "      <th>imdb_id</th>\n",
       "      <th>imdb_score</th>\n",
       "      <th>imdb_votes</th>\n",
       "      <th>tmdb_popularity</th>\n",
       "      <th>tmdb_score</th>\n",
       "    </tr>\n",
       "  </thead>\n",
       "  <tbody>\n",
       "    <tr>\n",
       "      <th>91</th>\n",
       "      <td>ts20981</td>\n",
       "      <td>Survivor</td>\n",
       "      <td>SHOW</td>\n",
       "      <td>A reality show contest where sixteen or more c...</td>\n",
       "      <td>2000</td>\n",
       "      <td>TV-PG</td>\n",
       "      <td>48</td>\n",
       "      <td>['reality']</td>\n",
       "      <td>['US']</td>\n",
       "      <td>42.0</td>\n",
       "      <td>tt0239195</td>\n",
       "      <td>7.4</td>\n",
       "      <td>24687.0</td>\n",
       "      <td>54.19</td>\n",
       "      <td>7.4</td>\n",
       "    </tr>\n",
       "  </tbody>\n",
       "</table>\n",
       "</div>"
      ],
      "text/plain": [
       "         id     title  type  \\\n",
       "91  ts20981  Survivor  SHOW   \n",
       "\n",
       "                                          description  release_year  \\\n",
       "91  A reality show contest where sixteen or more c...          2000   \n",
       "\n",
       "   age_certification  runtime       genres production_countries  seasons  \\\n",
       "91             TV-PG       48  ['reality']               ['US']     42.0   \n",
       "\n",
       "      imdb_id  imdb_score  imdb_votes  tmdb_popularity  tmdb_score  \n",
       "91  tt0239195         7.4     24687.0            54.19         7.4  "
      ]
     },
     "execution_count": 114,
     "metadata": {},
     "output_type": "execute_result"
    }
   ],
   "source": [
    "max = df[\"seasons\"].max()\n",
    "df[df[\"seasons\"]==max]"
   ]
  },
  {
   "cell_type": "markdown",
   "id": "1ef9edd5-f288-41cf-bb47-798a008dff84",
   "metadata": {},
   "source": [
    "### SURVIVOR has hightest number of seasons "
   ]
  },
  {
   "cell_type": "code",
   "execution_count": 167,
   "id": "2e5ab72f-db1c-4abf-91ac-d5b48bff3cad",
   "metadata": {},
   "outputs": [
    {
     "data": {
      "text/plain": [
       "seasons\n",
       "1.0     6.871679\n",
       "2.0     6.939189\n",
       "3.0     7.227072\n",
       "4.0     6.987288\n",
       "5.0     7.412658\n",
       "6.0     7.448571\n",
       "7.0     7.577778\n",
       "8.0     7.200000\n",
       "9.0     8.222222\n",
       "10.0    6.950000\n",
       "11.0    7.650000\n",
       "12.0    7.100000\n",
       "13.0    6.750000\n",
       "14.0    3.800000\n",
       "15.0    7.633333\n",
       "16.0    7.300000\n",
       "19.0    7.600000\n",
       "20.0    7.800000\n",
       "21.0    8.800000\n",
       "24.0    6.050000\n",
       "25.0    7.400000\n",
       "29.0    6.500000\n",
       "32.0    8.700000\n",
       "37.0    7.800000\n",
       "39.0    6.700000\n",
       "42.0    7.400000\n",
       "Name: imdb_score, dtype: float64"
      ]
     },
     "execution_count": 167,
     "metadata": {},
     "output_type": "execute_result"
    }
   ],
   "source": [
    "seasons = df.groupby(\"seasons\")[\"imdb_score\"].mean()\n",
    "seasons"
   ]
  },
  {
   "cell_type": "code",
   "execution_count": 168,
   "id": "afb08a1f-9b4a-483d-83f8-570cf0b714b0",
   "metadata": {},
   "outputs": [
    {
     "data": {
      "text/plain": [
       "np.float64(8.8)"
      ]
     },
     "execution_count": 168,
     "metadata": {},
     "output_type": "execute_result"
    }
   ],
   "source": [
    "seasons.max()"
   ]
  },
  {
   "cell_type": "markdown",
   "id": "ad55746d-abb1-432f-8b57-bcf9f5b86fd9",
   "metadata": {},
   "source": [
    "### most liked duration of shows is 21 seasons"
   ]
  },
  {
   "cell_type": "code",
   "execution_count": 23,
   "id": "719951d6-0b6b-43ef-aef2-04342c26489a",
   "metadata": {},
   "outputs": [
    {
     "data": {
      "text/plain": [
       "type\n",
       "MOVIE    3744\n",
       "SHOW     2106\n",
       "Name: id, dtype: int64"
      ]
     },
     "execution_count": 23,
     "metadata": {},
     "output_type": "execute_result"
    }
   ],
   "source": [
    "df.groupby(\"type\")[\"id\"].count()"
   ]
  },
  {
   "cell_type": "markdown",
   "id": "c7a7bdff-e103-4b05-ac7d-eae8716cfa1c",
   "metadata": {},
   "source": [
    "### Total number of movies= 3744\n",
    "### Total number of shows= 2106"
   ]
  },
  {
   "cell_type": "code",
   "execution_count": 117,
   "id": "c64fbac3-0f9e-4177-9cbe-4f25e98193c0",
   "metadata": {},
   "outputs": [
    {
     "data": {
      "text/plain": [
       "release_year\n",
       "2019    836\n",
       "2020    814\n",
       "2021    787\n",
       "2018    773\n",
       "2017    563\n",
       "       ... \n",
       "1971      1\n",
       "1977      1\n",
       "1958      1\n",
       "1978      1\n",
       "1963      1\n",
       "Name: count, Length: 63, dtype: int64"
      ]
     },
     "execution_count": 117,
     "metadata": {},
     "output_type": "execute_result"
    }
   ],
   "source": [
    "df['release_year'].value_counts()"
   ]
  },
  {
   "cell_type": "code",
   "execution_count": 46,
   "id": "c88e7640-6832-47b2-85e9-11123cd137de",
   "metadata": {},
   "outputs": [
    {
     "data": {
      "text/plain": [
       "np.int64(2019)"
      ]
     },
     "execution_count": 46,
     "metadata": {},
     "output_type": "execute_result"
    }
   ],
   "source": [
    "df['release_year'].value_counts().idxmax()"
   ]
  },
  {
   "cell_type": "markdown",
   "id": "d6ac594a-6aa6-49b6-86ab-49724a60ba5a",
   "metadata": {},
   "source": [
    "### 2019 is largest producing year"
   ]
  },
  {
   "cell_type": "code",
   "execution_count": 47,
   "id": "bba97572-5b53-477c-b4ac-ad87ac9ba3e4",
   "metadata": {},
   "outputs": [
    {
     "data": {
      "text/plain": [
       "np.int64(1985)"
      ]
     },
     "execution_count": 47,
     "metadata": {},
     "output_type": "execute_result"
    }
   ],
   "source": [
    "df['release_year'].value_counts().idxmin()"
   ]
  },
  {
   "cell_type": "markdown",
   "id": "43a0c123-11b6-4f41-a978-d487b5eeb924",
   "metadata": {},
   "source": [
    "### 1985 is least producing year"
   ]
  },
  {
   "cell_type": "code",
   "execution_count": 4,
   "id": "787c81e6-a182-43f1-89c8-38db9b0eded9",
   "metadata": {},
   "outputs": [],
   "source": [
    "movie=df[df[\"type\"]==\"MOVIE\"]\n",
    "show =df[df[\"type\"]==\"SHOW\"]"
   ]
  },
  {
   "cell_type": "code",
   "execution_count": 85,
   "id": "9a149098-9e7a-4394-a368-0c7d7e461011",
   "metadata": {},
   "outputs": [
    {
     "data": {
      "text/plain": [
       "np.int64(2019)"
      ]
     },
     "execution_count": 85,
     "metadata": {},
     "output_type": "execute_result"
    }
   ],
   "source": [
    "movie[\"release_year\"].value_counts().idxmax()"
   ]
  },
  {
   "cell_type": "code",
   "execution_count": 87,
   "id": "654901e9-0b56-4416-a9b1-b4beb90b2c53",
   "metadata": {},
   "outputs": [
    {
     "data": {
      "text/plain": [
       "np.int64(1985)"
      ]
     },
     "execution_count": 87,
     "metadata": {},
     "output_type": "execute_result"
    }
   ],
   "source": [
    "movie[\"release_year\"].value_counts().idxmin()"
   ]
  },
  {
   "cell_type": "markdown",
   "id": "8ccbc600-2176-4531-b6fe-f0f15ac6244c",
   "metadata": {},
   "source": [
    "### 1985 is least movies producing year"
   ]
  },
  {
   "cell_type": "markdown",
   "id": "1b3d19d1-94ba-461e-9fb9-09dadc42e12b",
   "metadata": {},
   "source": [
    "### 2019 is largest movies producing year"
   ]
  },
  {
   "cell_type": "code",
   "execution_count": 86,
   "id": "7ffe1bd7-710c-46e9-92a1-fda9656812f1",
   "metadata": {},
   "outputs": [
    {
     "data": {
      "text/plain": [
       "np.int64(2020)"
      ]
     },
     "execution_count": 86,
     "metadata": {},
     "output_type": "execute_result"
    }
   ],
   "source": [
    "show[\"release_year\"].value_counts().idxmax()"
   ]
  },
  {
   "cell_type": "code",
   "execution_count": 89,
   "id": "8fe9a2dd-c357-4d9c-961e-db7beef9c6e9",
   "metadata": {},
   "outputs": [
    {
     "data": {
      "text/plain": [
       "np.int64(1988)"
      ]
     },
     "execution_count": 89,
     "metadata": {},
     "output_type": "execute_result"
    }
   ],
   "source": [
    "show[\"release_year\"].value_counts().idxmin()"
   ]
  },
  {
   "cell_type": "markdown",
   "id": "d7be1e54-b84c-469d-8791-3614d06f3906",
   "metadata": {},
   "source": [
    "### 1988 is least shows producing year"
   ]
  },
  {
   "cell_type": "markdown",
   "id": "cd14a84c-077d-4d7a-890f-3166bc736331",
   "metadata": {},
   "source": [
    "### 2020 is largest shows producing year"
   ]
  },
  {
   "cell_type": "code",
   "execution_count": null,
   "id": "ba56f5dc-4520-4105-8090-411693fdc225",
   "metadata": {},
   "outputs": [],
   "source": []
  },
  {
   "cell_type": "code",
   "execution_count": 68,
   "id": "f24e5edb-5db0-4e97-87e4-393106f67e70",
   "metadata": {},
   "outputs": [
    {
     "data": {
      "text/plain": [
       "np.float64(98.21367521367522)"
      ]
     },
     "execution_count": 68,
     "metadata": {},
     "output_type": "execute_result"
    }
   ],
   "source": [
    "movie[\"runtime\"].mean()"
   ]
  },
  {
   "cell_type": "markdown",
   "id": "40c624c1-a44a-4338-899e-bff2550572af",
   "metadata": {},
   "source": [
    "### average runtime of movies is 98 imnutes"
   ]
  },
  {
   "cell_type": "code",
   "execution_count": 8,
   "id": "96d69f85-916f-46dd-b9d3-ba0c727ae7d4",
   "metadata": {},
   "outputs": [
    {
     "data": {
      "text/plain": [
       "id                                                               tm469911\n",
       "title                                                      Bonnie & Clyde\n",
       "type                                                                MOVIE\n",
       "description             Based on the true story of Clyde Barrow, a cha...\n",
       "release_year                                                         2013\n",
       "age_certification                                                   PG-13\n",
       "runtime                                                               240\n",
       "genres                                     ['drama', 'crime', 'european']\n",
       "production_countries                                               ['AT']\n",
       "seasons                                                               NaN\n",
       "imdb_id                                                         tt2374851\n",
       "imdb_score                                                            NaN\n",
       "imdb_votes                                                            NaN\n",
       "tmdb_popularity                                                     0.933\n",
       "tmdb_score                                                            7.5\n",
       "Name: 923, dtype: object"
      ]
     },
     "execution_count": 8,
     "metadata": {},
     "output_type": "execute_result"
    }
   ],
   "source": [
    "long= movie[\"runtime\"].idxmax()\n",
    "movie.loc[long\n",
    "# only fetch single row in case of ties"
   ]
  },
  {
   "cell_type": "code",
   "execution_count": 13,
   "id": "c9432e04-435b-4241-88fb-79c09b24bde1",
   "metadata": {},
   "outputs": [
    {
     "data": {
      "text/html": [
       "<div>\n",
       "<style scoped>\n",
       "    .dataframe tbody tr th:only-of-type {\n",
       "        vertical-align: middle;\n",
       "    }\n",
       "\n",
       "    .dataframe tbody tr th {\n",
       "        vertical-align: top;\n",
       "    }\n",
       "\n",
       "    .dataframe thead th {\n",
       "        text-align: right;\n",
       "    }\n",
       "</style>\n",
       "<table border=\"1\" class=\"dataframe\">\n",
       "  <thead>\n",
       "    <tr style=\"text-align: right;\">\n",
       "      <th></th>\n",
       "      <th>id</th>\n",
       "      <th>title</th>\n",
       "      <th>type</th>\n",
       "      <th>description</th>\n",
       "      <th>release_year</th>\n",
       "      <th>age_certification</th>\n",
       "      <th>runtime</th>\n",
       "      <th>genres</th>\n",
       "      <th>production_countries</th>\n",
       "      <th>seasons</th>\n",
       "      <th>imdb_id</th>\n",
       "      <th>imdb_score</th>\n",
       "      <th>imdb_votes</th>\n",
       "      <th>tmdb_popularity</th>\n",
       "      <th>tmdb_score</th>\n",
       "    </tr>\n",
       "  </thead>\n",
       "  <tbody>\n",
       "    <tr>\n",
       "      <th>923</th>\n",
       "      <td>tm469911</td>\n",
       "      <td>Bonnie &amp; Clyde</td>\n",
       "      <td>MOVIE</td>\n",
       "      <td>Based on the true story of Clyde Barrow, a cha...</td>\n",
       "      <td>2013</td>\n",
       "      <td>PG-13</td>\n",
       "      <td>240</td>\n",
       "      <td>['drama', 'crime', 'european']</td>\n",
       "      <td>['AT']</td>\n",
       "      <td>NaN</td>\n",
       "      <td>tt2374851</td>\n",
       "      <td>NaN</td>\n",
       "      <td>NaN</td>\n",
       "      <td>0.933</td>\n",
       "      <td>7.5</td>\n",
       "    </tr>\n",
       "  </tbody>\n",
       "</table>\n",
       "</div>"
      ],
      "text/plain": [
       "           id           title   type  \\\n",
       "923  tm469911  Bonnie & Clyde  MOVIE   \n",
       "\n",
       "                                           description  release_year  \\\n",
       "923  Based on the true story of Clyde Barrow, a cha...          2013   \n",
       "\n",
       "    age_certification  runtime                          genres  \\\n",
       "923             PG-13      240  ['drama', 'crime', 'european']   \n",
       "\n",
       "    production_countries  seasons    imdb_id  imdb_score  imdb_votes  \\\n",
       "923               ['AT']      NaN  tt2374851         NaN         NaN   \n",
       "\n",
       "     tmdb_popularity  tmdb_score  \n",
       "923            0.933         7.5  "
      ]
     },
     "execution_count": 13,
     "metadata": {},
     "output_type": "execute_result"
    }
   ],
   "source": [
    "long = movie[\"runtime\"].max()\n",
    "movie[movie[\"runtime\"]==long]"
   ]
  },
  {
   "cell_type": "markdown",
   "id": "e2b6ce2a-743f-4959-91a5-58029df484e9",
   "metadata": {},
   "source": [
    "### Bonnie &Cycle is the longest movie having 240 minutes released in 2013"
   ]
  },
  {
   "cell_type": "raw",
   "id": "8b928b63-64fd-49a1-ba3a-feb526c76bae",
   "metadata": {},
   "source": [
    "1. FIRST WAY\n",
    "long= movie[\"runtime\"].idxmax()\n",
    "movie.loc[long]\n",
    "\n",
    "2. SECOND WAY\n",
    "long = movie[\"runtime\"].max()\n",
    "movie[movie[\"runtime\"]==long]\n",
    "\n"
   ]
  },
  {
   "cell_type": "code",
   "execution_count": 14,
   "id": "0d954428-ed60-4d03-8b86-269ee0dc36d4",
   "metadata": {},
   "outputs": [
    {
     "data": {
      "text/html": [
       "<div>\n",
       "<style scoped>\n",
       "    .dataframe tbody tr th:only-of-type {\n",
       "        vertical-align: middle;\n",
       "    }\n",
       "\n",
       "    .dataframe tbody tr th {\n",
       "        vertical-align: top;\n",
       "    }\n",
       "\n",
       "    .dataframe thead th {\n",
       "        text-align: right;\n",
       "    }\n",
       "</style>\n",
       "<table border=\"1\" class=\"dataframe\">\n",
       "  <thead>\n",
       "    <tr style=\"text-align: right;\">\n",
       "      <th></th>\n",
       "      <th>id</th>\n",
       "      <th>title</th>\n",
       "      <th>type</th>\n",
       "      <th>description</th>\n",
       "      <th>release_year</th>\n",
       "      <th>age_certification</th>\n",
       "      <th>runtime</th>\n",
       "      <th>genres</th>\n",
       "      <th>production_countries</th>\n",
       "      <th>seasons</th>\n",
       "      <th>imdb_id</th>\n",
       "      <th>imdb_score</th>\n",
       "      <th>imdb_votes</th>\n",
       "      <th>tmdb_popularity</th>\n",
       "      <th>tmdb_score</th>\n",
       "    </tr>\n",
       "  </thead>\n",
       "  <tbody>\n",
       "    <tr>\n",
       "      <th>5766</th>\n",
       "      <td>tm1004011</td>\n",
       "      <td>Time to Dance</td>\n",
       "      <td>MOVIE</td>\n",
       "      <td>When a ballroom dancer’s shot at a crucial tou...</td>\n",
       "      <td>2021</td>\n",
       "      <td>NaN</td>\n",
       "      <td>2</td>\n",
       "      <td>['romance', 'drama']</td>\n",
       "      <td>['IN']</td>\n",
       "      <td>NaN</td>\n",
       "      <td>tt8622232</td>\n",
       "      <td>2.2</td>\n",
       "      <td>963.0</td>\n",
       "      <td>1.043</td>\n",
       "      <td>4.0</td>\n",
       "    </tr>\n",
       "  </tbody>\n",
       "</table>\n",
       "</div>"
      ],
      "text/plain": [
       "             id          title   type  \\\n",
       "5766  tm1004011  Time to Dance  MOVIE   \n",
       "\n",
       "                                            description  release_year  \\\n",
       "5766  When a ballroom dancer’s shot at a crucial tou...          2021   \n",
       "\n",
       "     age_certification  runtime                genres production_countries  \\\n",
       "5766               NaN        2  ['romance', 'drama']               ['IN']   \n",
       "\n",
       "      seasons    imdb_id  imdb_score  imdb_votes  tmdb_popularity  tmdb_score  \n",
       "5766      NaN  tt8622232         2.2       963.0            1.043         4.0  "
      ]
     },
     "execution_count": 14,
     "metadata": {},
     "output_type": "execute_result"
    }
   ],
   "source": [
    "short =movie[\"runtime\"].min()\n",
    "movie[movie[\"runtime\"]==short]"
   ]
  },
  {
   "cell_type": "markdown",
   "id": "2f9f7ec7-396e-4c24-933d-59c99cabfddf",
   "metadata": {},
   "source": [
    "### Time to Dance is the shortest movie having 2 minutes released in 2021"
   ]
  },
  {
   "cell_type": "code",
   "execution_count": null,
   "id": "f37c6285-9cfb-42c0-b0d0-b95c9b0c1c46",
   "metadata": {},
   "outputs": [],
   "source": []
  },
  {
   "cell_type": "code",
   "execution_count": 69,
   "id": "4a0af37f-faa7-4e2b-a262-797e87358dc6",
   "metadata": {},
   "outputs": [
    {
     "data": {
      "text/plain": [
       "np.float64(38.978157644824314)"
      ]
     },
     "execution_count": 69,
     "metadata": {},
     "output_type": "execute_result"
    }
   ],
   "source": [
    "show[\"runtime\"].mean()"
   ]
  },
  {
   "cell_type": "markdown",
   "id": "f20d08d2-7df0-4791-8f8c-a22e7a9d9011",
   "metadata": {},
   "source": [
    "### average runtime of shows is 38 minutes"
   ]
  },
  {
   "cell_type": "code",
   "execution_count": 15,
   "id": "cbbc8723-668f-49c6-b7dd-88193ab65972",
   "metadata": {},
   "outputs": [
    {
     "data": {
      "text/html": [
       "<div>\n",
       "<style scoped>\n",
       "    .dataframe tbody tr th:only-of-type {\n",
       "        vertical-align: middle;\n",
       "    }\n",
       "\n",
       "    .dataframe tbody tr th {\n",
       "        vertical-align: top;\n",
       "    }\n",
       "\n",
       "    .dataframe thead th {\n",
       "        text-align: right;\n",
       "    }\n",
       "</style>\n",
       "<table border=\"1\" class=\"dataframe\">\n",
       "  <thead>\n",
       "    <tr style=\"text-align: right;\">\n",
       "      <th></th>\n",
       "      <th>id</th>\n",
       "      <th>title</th>\n",
       "      <th>type</th>\n",
       "      <th>description</th>\n",
       "      <th>release_year</th>\n",
       "      <th>age_certification</th>\n",
       "      <th>runtime</th>\n",
       "      <th>genres</th>\n",
       "      <th>production_countries</th>\n",
       "      <th>seasons</th>\n",
       "      <th>imdb_id</th>\n",
       "      <th>imdb_score</th>\n",
       "      <th>imdb_votes</th>\n",
       "      <th>tmdb_popularity</th>\n",
       "      <th>tmdb_score</th>\n",
       "    </tr>\n",
       "  </thead>\n",
       "  <tbody>\n",
       "    <tr>\n",
       "      <th>515</th>\n",
       "      <td>ts19384</td>\n",
       "      <td>A Lion in the House</td>\n",
       "      <td>SHOW</td>\n",
       "      <td>Five families struggle with the ups and downs ...</td>\n",
       "      <td>2006</td>\n",
       "      <td>TV-14</td>\n",
       "      <td>190</td>\n",
       "      <td>['documentation']</td>\n",
       "      <td>['US']</td>\n",
       "      <td>1.0</td>\n",
       "      <td>NaN</td>\n",
       "      <td>NaN</td>\n",
       "      <td>NaN</td>\n",
       "      <td>1.487</td>\n",
       "      <td>7.5</td>\n",
       "    </tr>\n",
       "  </tbody>\n",
       "</table>\n",
       "</div>"
      ],
      "text/plain": [
       "          id                title  type  \\\n",
       "515  ts19384  A Lion in the House  SHOW   \n",
       "\n",
       "                                           description  release_year  \\\n",
       "515  Five families struggle with the ups and downs ...          2006   \n",
       "\n",
       "    age_certification  runtime             genres production_countries  \\\n",
       "515             TV-14      190  ['documentation']               ['US']   \n",
       "\n",
       "     seasons imdb_id  imdb_score  imdb_votes  tmdb_popularity  tmdb_score  \n",
       "515      1.0     NaN         NaN         NaN            1.487         7.5  "
      ]
     },
     "execution_count": 15,
     "metadata": {},
     "output_type": "execute_result"
    }
   ],
   "source": [
    "longer=show[\"runtime\"].max()\n",
    "show[show[\"runtime\"]==longer]"
   ]
  },
  {
   "cell_type": "markdown",
   "id": "2ffc7b2c-9095-4231-96c0-64924a4baa35",
   "metadata": {},
   "source": [
    "### A Lion in the House is the longest shows released in 2006(190 min)"
   ]
  },
  {
   "cell_type": "code",
   "execution_count": 17,
   "id": "f7d87ebb-c6d7-4517-9167-a0fdcb29d9a0",
   "metadata": {},
   "outputs": [
    {
     "data": {
      "text/plain": [
       "518                       Pecados capitales\n",
       "594                               Pink Zone\n",
       "1340                                La Niña\n",
       "1430                  Sons of the Caliphate\n",
       "2577                                 Borges\n",
       "3887                     Emily's Wonder Lab\n",
       "4394                     Nailed It! Germany\n",
       "4680                          นางสาวก้นครัว\n",
       "5152                 Bullsh*t the Game Show\n",
       "5223                             Back to 15\n",
       "5390             Storybots Laugh Learn Sing\n",
       "5498    Vendetta: Truth, Lies and The Mafia\n",
       "5515                         Pedal to Metal\n",
       "5714             Word Party Presents: Math!\n",
       "Name: title, dtype: object"
      ]
     },
     "execution_count": 17,
     "metadata": {},
     "output_type": "execute_result"
    }
   ],
   "source": [
    "shorter= show[\"runtime\"].min()\n",
    "show[show[\"runtime\"]==shorter][\"title\"]"
   ]
  },
  {
   "cell_type": "code",
   "execution_count": 18,
   "id": "b4561e1e-282e-45fb-a412-f92d8e7e98ad",
   "metadata": {},
   "outputs": [
    {
     "data": {
      "text/plain": [
       "np.int64(14)"
      ]
     },
     "execution_count": 18,
     "metadata": {},
     "output_type": "execute_result"
    }
   ],
   "source": [
    "show[show[\"runtime\"]==shorter][\"title\"].count()"
   ]
  },
  {
   "cell_type": "markdown",
   "id": "96e38aed-fc25-4762-a257-ad06adcc977f",
   "metadata": {},
   "source": [
    "### 14 shows having least runtime of 0 minutes"
   ]
  },
  {
   "cell_type": "raw",
   "id": "070d930f-a9b5-4341-9385-2c15bc7ea55d",
   "metadata": {},
   "source": [
    "Short movie: less than 90 minutes\n",
    "\n",
    "Long movie: more than 150 minutes"
   ]
  },
  {
   "cell_type": "code",
   "execution_count": 120,
   "id": "f91da726-70c6-4b41-aae1-7443f6d5d220",
   "metadata": {},
   "outputs": [
    {
     "data": {
      "text/plain": [
       "np.int64(1163)"
      ]
     },
     "execution_count": 120,
     "metadata": {},
     "output_type": "execute_result"
    }
   ],
   "source": [
    "movie[movie[\"runtime\"]<90][\"id\"].count()"
   ]
  },
  {
   "cell_type": "code",
   "execution_count": 121,
   "id": "31fba356-4771-4da9-a1cc-69d6641635e1",
   "metadata": {},
   "outputs": [
    {
     "data": {
      "text/plain": [
       "np.int64(162)"
      ]
     },
     "execution_count": 121,
     "metadata": {},
     "output_type": "execute_result"
    }
   ],
   "source": [
    "movie[movie[\"runtime\"]>150][\"id\"].count()"
   ]
  },
  {
   "cell_type": "code",
   "execution_count": 106,
   "id": "f234a224-e15f-44d1-90c9-54196362917a",
   "metadata": {},
   "outputs": [
    {
     "data": {
      "text/html": [
       "<div>\n",
       "<style scoped>\n",
       "    .dataframe tbody tr th:only-of-type {\n",
       "        vertical-align: middle;\n",
       "    }\n",
       "\n",
       "    .dataframe tbody tr th {\n",
       "        vertical-align: top;\n",
       "    }\n",
       "\n",
       "    .dataframe thead th {\n",
       "        text-align: right;\n",
       "    }\n",
       "</style>\n",
       "<table border=\"1\" class=\"dataframe\">\n",
       "  <thead>\n",
       "    <tr style=\"text-align: right;\">\n",
       "      <th></th>\n",
       "      <th>id</th>\n",
       "      <th>title</th>\n",
       "      <th>type</th>\n",
       "      <th>description</th>\n",
       "      <th>release_year</th>\n",
       "      <th>age_certification</th>\n",
       "      <th>runtime</th>\n",
       "      <th>genres</th>\n",
       "      <th>production_countries</th>\n",
       "      <th>seasons</th>\n",
       "      <th>imdb_id</th>\n",
       "      <th>imdb_score</th>\n",
       "      <th>imdb_votes</th>\n",
       "      <th>tmdb_popularity</th>\n",
       "      <th>tmdb_score</th>\n",
       "      <th>length_category</th>\n",
       "    </tr>\n",
       "  </thead>\n",
       "  <tbody>\n",
       "    <tr>\n",
       "      <th>1092</th>\n",
       "      <td>tm250247</td>\n",
       "      <td>Chhota Bheem &amp; Krishna vs Zimbara</td>\n",
       "      <td>MOVIE</td>\n",
       "      <td>Chhota Bheem Aur Krishna vs Zimbara is an Indi...</td>\n",
       "      <td>2013</td>\n",
       "      <td>G</td>\n",
       "      <td>64</td>\n",
       "      <td>['animation']</td>\n",
       "      <td>[]</td>\n",
       "      <td>NaN</td>\n",
       "      <td>tt6417984</td>\n",
       "      <td>9.1</td>\n",
       "      <td>16.0</td>\n",
       "      <td>1.442</td>\n",
       "      <td>NaN</td>\n",
       "      <td>Short</td>\n",
       "    </tr>\n",
       "    <tr>\n",
       "      <th>4771</th>\n",
       "      <td>tm996762</td>\n",
       "      <td>Major</td>\n",
       "      <td>MOVIE</td>\n",
       "      <td>Based on the life of real-life Hero Major Sand...</td>\n",
       "      <td>2022</td>\n",
       "      <td>NaN</td>\n",
       "      <td>149</td>\n",
       "      <td>['action', 'drama']</td>\n",
       "      <td>['IN']</td>\n",
       "      <td>NaN</td>\n",
       "      <td>tt9851854</td>\n",
       "      <td>9.1</td>\n",
       "      <td>7576.0</td>\n",
       "      <td>6.429</td>\n",
       "      <td>8.188</td>\n",
       "      <td>Medium</td>\n",
       "    </tr>\n",
       "  </tbody>\n",
       "</table>\n",
       "</div>"
      ],
      "text/plain": [
       "            id                              title   type  \\\n",
       "1092  tm250247  Chhota Bheem & Krishna vs Zimbara  MOVIE   \n",
       "4771  tm996762                              Major  MOVIE   \n",
       "\n",
       "                                            description  release_year  \\\n",
       "1092  Chhota Bheem Aur Krishna vs Zimbara is an Indi...          2013   \n",
       "4771  Based on the life of real-life Hero Major Sand...          2022   \n",
       "\n",
       "     age_certification  runtime               genres production_countries  \\\n",
       "1092                 G       64        ['animation']                   []   \n",
       "4771               NaN      149  ['action', 'drama']               ['IN']   \n",
       "\n",
       "      seasons    imdb_id  imdb_score  imdb_votes  tmdb_popularity  tmdb_score  \\\n",
       "1092      NaN  tt6417984         9.1        16.0            1.442         NaN   \n",
       "4771      NaN  tt9851854         9.1      7576.0            6.429       8.188   \n",
       "\n",
       "     length_category  \n",
       "1092           Short  \n",
       "4771          Medium  "
      ]
     },
     "execution_count": 106,
     "metadata": {},
     "output_type": "execute_result"
    }
   ],
   "source": [
    "high= movie[\"imdb_score\"].max()\n",
    "movie[movie[\"imdb_score\"]==high]"
   ]
  },
  {
   "cell_type": "code",
   "execution_count": 20,
   "id": "7d03cf6a-539c-48bb-b8c6-1cf8879a325f",
   "metadata": {},
   "outputs": [
    {
     "data": {
      "text/html": [
       "<div>\n",
       "<style scoped>\n",
       "    .dataframe tbody tr th:only-of-type {\n",
       "        vertical-align: middle;\n",
       "    }\n",
       "\n",
       "    .dataframe tbody tr th {\n",
       "        vertical-align: top;\n",
       "    }\n",
       "\n",
       "    .dataframe thead th {\n",
       "        text-align: right;\n",
       "    }\n",
       "</style>\n",
       "<table border=\"1\" class=\"dataframe\">\n",
       "  <thead>\n",
       "    <tr style=\"text-align: right;\">\n",
       "      <th></th>\n",
       "      <th>id</th>\n",
       "      <th>title</th>\n",
       "      <th>type</th>\n",
       "      <th>description</th>\n",
       "      <th>release_year</th>\n",
       "      <th>age_certification</th>\n",
       "      <th>runtime</th>\n",
       "      <th>genres</th>\n",
       "      <th>production_countries</th>\n",
       "      <th>seasons</th>\n",
       "      <th>imdb_id</th>\n",
       "      <th>imdb_score</th>\n",
       "      <th>imdb_votes</th>\n",
       "      <th>tmdb_popularity</th>\n",
       "      <th>tmdb_score</th>\n",
       "    </tr>\n",
       "  </thead>\n",
       "  <tbody>\n",
       "    <tr>\n",
       "      <th>1092</th>\n",
       "      <td>tm250247</td>\n",
       "      <td>Chhota Bheem &amp; Krishna vs Zimbara</td>\n",
       "      <td>MOVIE</td>\n",
       "      <td>Chhota Bheem Aur Krishna vs Zimbara is an Indi...</td>\n",
       "      <td>2013</td>\n",
       "      <td>G</td>\n",
       "      <td>64</td>\n",
       "      <td>['animation']</td>\n",
       "      <td>[]</td>\n",
       "      <td>NaN</td>\n",
       "      <td>tt6417984</td>\n",
       "      <td>9.1</td>\n",
       "      <td>16.0</td>\n",
       "      <td>1.442</td>\n",
       "      <td>NaN</td>\n",
       "    </tr>\n",
       "    <tr>\n",
       "      <th>4771</th>\n",
       "      <td>tm996762</td>\n",
       "      <td>Major</td>\n",
       "      <td>MOVIE</td>\n",
       "      <td>Based on the life of real-life Hero Major Sand...</td>\n",
       "      <td>2022</td>\n",
       "      <td>NaN</td>\n",
       "      <td>149</td>\n",
       "      <td>['action', 'drama']</td>\n",
       "      <td>['IN']</td>\n",
       "      <td>NaN</td>\n",
       "      <td>tt9851854</td>\n",
       "      <td>9.1</td>\n",
       "      <td>7576.0</td>\n",
       "      <td>6.429</td>\n",
       "      <td>8.188</td>\n",
       "    </tr>\n",
       "  </tbody>\n",
       "</table>\n",
       "</div>"
      ],
      "text/plain": [
       "            id                              title   type  \\\n",
       "1092  tm250247  Chhota Bheem & Krishna vs Zimbara  MOVIE   \n",
       "4771  tm996762                              Major  MOVIE   \n",
       "\n",
       "                                            description  release_year  \\\n",
       "1092  Chhota Bheem Aur Krishna vs Zimbara is an Indi...          2013   \n",
       "4771  Based on the life of real-life Hero Major Sand...          2022   \n",
       "\n",
       "     age_certification  runtime               genres production_countries  \\\n",
       "1092                 G       64        ['animation']                   []   \n",
       "4771               NaN      149  ['action', 'drama']               ['IN']   \n",
       "\n",
       "      seasons    imdb_id  imdb_score  imdb_votes  tmdb_popularity  tmdb_score  \n",
       "1092      NaN  tt6417984         9.1        16.0            1.442         NaN  \n",
       "4771      NaN  tt9851854         9.1      7576.0            6.429       8.188  "
      ]
     },
     "execution_count": 20,
     "metadata": {},
     "output_type": "execute_result"
    }
   ],
   "source": [
    "low=movie[\"imdb_score\"].min()\n",
    "movie[movie[\"imdb_score\"]==9.1]"
   ]
  },
  {
   "cell_type": "code",
   "execution_count": 26,
   "id": "957371a7-c7b3-4ea6-8f2a-6bdb740befba",
   "metadata": {},
   "outputs": [],
   "source": [
    "#movie[movie['imdb_score'] == movie['imdb_score'].max()]\n"
   ]
  },
  {
   "cell_type": "code",
   "execution_count": 28,
   "id": "54b2825f-24f9-487c-bb6b-c4f98aff963c",
   "metadata": {},
   "outputs": [
    {
     "data": {
      "text/html": [
       "<div>\n",
       "<style scoped>\n",
       "    .dataframe tbody tr th:only-of-type {\n",
       "        vertical-align: middle;\n",
       "    }\n",
       "\n",
       "    .dataframe tbody tr th {\n",
       "        vertical-align: top;\n",
       "    }\n",
       "\n",
       "    .dataframe thead th {\n",
       "        text-align: right;\n",
       "    }\n",
       "</style>\n",
       "<table border=\"1\" class=\"dataframe\">\n",
       "  <thead>\n",
       "    <tr style=\"text-align: right;\">\n",
       "      <th></th>\n",
       "      <th>id</th>\n",
       "      <th>title</th>\n",
       "      <th>type</th>\n",
       "      <th>description</th>\n",
       "      <th>release_year</th>\n",
       "      <th>age_certification</th>\n",
       "      <th>runtime</th>\n",
       "      <th>genres</th>\n",
       "      <th>production_countries</th>\n",
       "      <th>seasons</th>\n",
       "      <th>imdb_id</th>\n",
       "      <th>imdb_score</th>\n",
       "      <th>imdb_votes</th>\n",
       "      <th>tmdb_popularity</th>\n",
       "      <th>tmdb_score</th>\n",
       "    </tr>\n",
       "  </thead>\n",
       "  <tbody>\n",
       "    <tr>\n",
       "      <th>2658</th>\n",
       "      <td>ts265844</td>\n",
       "      <td>#ABtalks</td>\n",
       "      <td>SHOW</td>\n",
       "      <td>#ABtalks is a YouTube interview show hosted by...</td>\n",
       "      <td>2018</td>\n",
       "      <td>TV-PG</td>\n",
       "      <td>68</td>\n",
       "      <td>[]</td>\n",
       "      <td>[]</td>\n",
       "      <td>1.0</td>\n",
       "      <td>tt12635254</td>\n",
       "      <td>9.6</td>\n",
       "      <td>7.0</td>\n",
       "      <td>NaN</td>\n",
       "      <td>NaN</td>\n",
       "    </tr>\n",
       "  </tbody>\n",
       "</table>\n",
       "</div>"
      ],
      "text/plain": [
       "            id     title  type  \\\n",
       "2658  ts265844  #ABtalks  SHOW   \n",
       "\n",
       "                                            description  release_year  \\\n",
       "2658  #ABtalks is a YouTube interview show hosted by...          2018   \n",
       "\n",
       "     age_certification  runtime genres production_countries  seasons  \\\n",
       "2658             TV-PG       68     []                   []      1.0   \n",
       "\n",
       "         imdb_id  imdb_score  imdb_votes  tmdb_popularity  tmdb_score  \n",
       "2658  tt12635254         9.6         7.0              NaN         NaN  "
      ]
     },
     "execution_count": 28,
     "metadata": {},
     "output_type": "execute_result"
    }
   ],
   "source": [
    "hightest=show[\"imdb_score\"].max()\n",
    "show[show[\"imdb_score\"]==hightest]"
   ]
  },
  {
   "cell_type": "markdown",
   "id": "47fb7bbc-a93b-4498-b11a-27de80ed9ff6",
   "metadata": {},
   "source": [
    "### #ABtalks(released in 2018} has hightest imdb ratings of 9.6"
   ]
  },
  {
   "cell_type": "code",
   "execution_count": 30,
   "id": "b22a6f80-6d2b-4c8e-acc2-102291103cf3",
   "metadata": {},
   "outputs": [
    {
     "data": {
      "text/html": [
       "<div>\n",
       "<style scoped>\n",
       "    .dataframe tbody tr th:only-of-type {\n",
       "        vertical-align: middle;\n",
       "    }\n",
       "\n",
       "    .dataframe tbody tr th {\n",
       "        vertical-align: top;\n",
       "    }\n",
       "\n",
       "    .dataframe thead th {\n",
       "        text-align: right;\n",
       "    }\n",
       "</style>\n",
       "<table border=\"1\" class=\"dataframe\">\n",
       "  <thead>\n",
       "    <tr style=\"text-align: right;\">\n",
       "      <th></th>\n",
       "      <th>id</th>\n",
       "      <th>title</th>\n",
       "      <th>type</th>\n",
       "      <th>description</th>\n",
       "      <th>release_year</th>\n",
       "      <th>age_certification</th>\n",
       "      <th>runtime</th>\n",
       "      <th>genres</th>\n",
       "      <th>production_countries</th>\n",
       "      <th>seasons</th>\n",
       "      <th>imdb_id</th>\n",
       "      <th>imdb_score</th>\n",
       "      <th>imdb_votes</th>\n",
       "      <th>tmdb_popularity</th>\n",
       "      <th>tmdb_score</th>\n",
       "    </tr>\n",
       "  </thead>\n",
       "  <tbody>\n",
       "    <tr>\n",
       "      <th>5298</th>\n",
       "      <td>ts280693</td>\n",
       "      <td>Thomas &amp; Friends: All Engines Go!</td>\n",
       "      <td>SHOW</td>\n",
       "      <td>In a reboot of the classic TV series, a younge...</td>\n",
       "      <td>2021</td>\n",
       "      <td>TV-Y</td>\n",
       "      <td>11</td>\n",
       "      <td>['animation', 'fantasy', 'drama', 'family', 'm...</td>\n",
       "      <td>['US']</td>\n",
       "      <td>1.0</td>\n",
       "      <td>tt13940396</td>\n",
       "      <td>2.0</td>\n",
       "      <td>555.0</td>\n",
       "      <td>1.287</td>\n",
       "      <td>8.0</td>\n",
       "    </tr>\n",
       "    <tr>\n",
       "      <th>5695</th>\n",
       "      <td>ts319303</td>\n",
       "      <td>He's Expecting</td>\n",
       "      <td>SHOW</td>\n",
       "      <td>When a successful ad executive who's got it al...</td>\n",
       "      <td>2022</td>\n",
       "      <td>TV-PG</td>\n",
       "      <td>26</td>\n",
       "      <td>['drama', 'comedy', 'romance', 'fantasy']</td>\n",
       "      <td>['JP']</td>\n",
       "      <td>1.0</td>\n",
       "      <td>tt14719276</td>\n",
       "      <td>2.0</td>\n",
       "      <td>3019.0</td>\n",
       "      <td>11.314</td>\n",
       "      <td>4.0</td>\n",
       "    </tr>\n",
       "  </tbody>\n",
       "</table>\n",
       "</div>"
      ],
      "text/plain": [
       "            id                              title  type  \\\n",
       "5298  ts280693  Thomas & Friends: All Engines Go!  SHOW   \n",
       "5695  ts319303                     He's Expecting  SHOW   \n",
       "\n",
       "                                            description  release_year  \\\n",
       "5298  In a reboot of the classic TV series, a younge...          2021   \n",
       "5695  When a successful ad executive who's got it al...          2022   \n",
       "\n",
       "     age_certification  runtime  \\\n",
       "5298              TV-Y       11   \n",
       "5695             TV-PG       26   \n",
       "\n",
       "                                                 genres production_countries  \\\n",
       "5298  ['animation', 'fantasy', 'drama', 'family', 'm...               ['US']   \n",
       "5695          ['drama', 'comedy', 'romance', 'fantasy']               ['JP']   \n",
       "\n",
       "      seasons     imdb_id  imdb_score  imdb_votes  tmdb_popularity  tmdb_score  \n",
       "5298      1.0  tt13940396         2.0       555.0            1.287         8.0  \n",
       "5695      1.0  tt14719276         2.0      3019.0           11.314         4.0  "
      ]
     },
     "execution_count": 30,
     "metadata": {},
     "output_type": "execute_result"
    }
   ],
   "source": [
    "lowest=show[\"imdb_score\"].min()\n",
    "show[show[\"imdb_score\"]==lowest]"
   ]
  },
  {
   "cell_type": "markdown",
   "id": "eb754013-4f9f-42be-bab0-1f4ec7c4ff65",
   "metadata": {},
   "source": [
    "### Thomas & Friends: All Engines Go! and He's Expecting has a ties with 2.0 rating"
   ]
  },
  {
   "cell_type": "code",
   "execution_count": 38,
   "id": "f55327c7-45b7-4396-91ae-f39daf68d085",
   "metadata": {},
   "outputs": [
    {
     "data": {
      "text/plain": [
       "0                                 ['documentation']\n",
       "1                                ['drama', 'crime']\n",
       "2       ['drama', 'action', 'thriller', 'european']\n",
       "3                   ['fantasy', 'action', 'comedy']\n",
       "4                                 ['war', 'action']\n",
       "                           ...                     \n",
       "5845                           ['romance', 'drama']\n",
       "5846                                      ['drama']\n",
       "5847                                     ['comedy']\n",
       "5848                                             []\n",
       "5849              ['family', 'animation', 'comedy']\n",
       "Name: genres, Length: 5850, dtype: object"
      ]
     },
     "execution_count": 38,
     "metadata": {},
     "output_type": "execute_result"
    }
   ],
   "source": [
    "df[\"genres\"]"
   ]
  },
  {
   "cell_type": "code",
   "execution_count": 44,
   "id": "bd2479c7-4e6f-4158-96f3-b269df982a9e",
   "metadata": {},
   "outputs": [
    {
     "data": {
      "text/plain": [
       "genres\n",
       "['comedy']                                            484\n",
       "['documentation']                                     329\n",
       "['drama']                                             328\n",
       "['comedy', 'drama']                                   135\n",
       "['drama', 'romance']                                  124\n",
       "                                                     ... \n",
       "['action', 'drama', 'fantasy', 'scifi']                 1\n",
       "['family', 'drama', 'comedy', 'sport']                  1\n",
       "['romance', 'comedy', 'crime', 'drama']                 1\n",
       "['comedy', 'crime', 'action', 'drama', 'thriller']      1\n",
       "['drama', 'thriller', 'history']                        1\n",
       "Name: count, Length: 1726, dtype: int64"
      ]
     },
     "execution_count": 44,
     "metadata": {},
     "output_type": "execute_result"
    }
   ],
   "source": [
    "count = df[\"genres\"].value_counts()\n",
    "count"
   ]
  },
  {
   "cell_type": "code",
   "execution_count": 43,
   "id": "cd274343-eeb2-4f1b-a613-5603021f52ff",
   "metadata": {},
   "outputs": [
    {
     "data": {
      "text/plain": [
       "\"['comedy']\""
      ]
     },
     "execution_count": 43,
     "metadata": {},
     "output_type": "execute_result"
    }
   ],
   "source": [
    "count.idxmax()"
   ]
  },
  {
   "cell_type": "code",
   "execution_count": 46,
   "id": "160aca88-88e1-49a7-8561-650d71bd9ff5",
   "metadata": {},
   "outputs": [],
   "source": [
    "#df[\"genres\"].value_counts().idxmax()"
   ]
  },
  {
   "cell_type": "markdown",
   "id": "b31d8afe-d852-4442-89bb-7f9f347d6d1f",
   "metadata": {},
   "source": [
    "### COMEDY IS MOST COMMON GENRE"
   ]
  },
  {
   "cell_type": "code",
   "execution_count": null,
   "id": "ff648f6c-6999-44fb-8309-fe097e9e6196",
   "metadata": {},
   "outputs": [],
   "source": [
    "# max_val = df['genres'].max()\n",
    "# second_max_value = df[df['genres'] < max_val]['genres'].max()\n",
    "# second_max_value\n"
   ]
  },
  {
   "cell_type": "code",
   "execution_count": 47,
   "id": "ce1bd5e7-f5d2-4875-b384-528dc9c555f0",
   "metadata": {},
   "outputs": [
    {
     "data": {
      "text/plain": [
       "\"['documentation', 'music', 'reality']\""
      ]
     },
     "execution_count": 47,
     "metadata": {},
     "output_type": "execute_result"
    }
   ],
   "source": [
    "df[\"genres\"].value_counts().idxmin()"
   ]
  },
  {
   "cell_type": "markdown",
   "id": "dbb1d527-a13d-4841-abbe-1201504519f3",
   "metadata": {},
   "source": [
    "### LEAST COMMON GENRES ARE DOCUMENTATION ,REALITY AND MUSIC"
   ]
  },
  {
   "cell_type": "code",
   "execution_count": 62,
   "id": "4c38e094-1a10-4710-837b-01a2511a17c4",
   "metadata": {},
   "outputs": [
    {
     "data": {
      "text/plain": [
       "genres\n",
       "['action', 'animation', 'comedy', 'drama', 'family', 'fantasy', 'music', 'romance']    7.7\n",
       "['action', 'animation', 'comedy', 'drama', 'family', 'scifi']                          7.9\n",
       "['action', 'animation', 'comedy', 'family', 'fantasy']                                 7.8\n",
       "['action', 'animation', 'comedy', 'family', 'music']                                   6.0\n",
       "['action', 'animation', 'comedy', 'family']                                            7.6\n",
       "                                                                                      ... \n",
       "['western', 'history', 'drama']                                                        6.5\n",
       "['western', 'horror', 'action']                                                        6.0\n",
       "['western', 'thriller', 'horror']                                                      5.5\n",
       "['western']                                                                            NaN\n",
       "[]                                                                                     9.6\n",
       "Name: imdb_score, Length: 1726, dtype: float64"
      ]
     },
     "execution_count": 62,
     "metadata": {},
     "output_type": "execute_result"
    }
   ],
   "source": [
    "high = df.groupby(\"genres\")[\"imdb_score\"].max()\n",
    "high"
   ]
  },
  {
   "cell_type": "code",
   "execution_count": 57,
   "id": "c1a5600c-6702-482d-8317-56a9a2893e7f",
   "metadata": {},
   "outputs": [
    {
     "data": {
      "text/plain": [
       "'[]'"
      ]
     },
     "execution_count": 57,
     "metadata": {},
     "output_type": "execute_result"
    }
   ],
   "source": [
    "high.idxmax()"
   ]
  },
  {
   "cell_type": "code",
   "execution_count": 63,
   "id": "543a61ca-4ec2-47d5-b8c8-0c3f31701477",
   "metadata": {},
   "outputs": [
    {
     "data": {
      "text/plain": [
       "genres\n",
       "[]                                                          9.6\n",
       "['reality']                                                 9.5\n",
       "['drama', 'crime', 'thriller']                              9.5\n",
       "['scifi', 'animation', 'action', 'family', 'fantasy']       9.3\n",
       "['documentation']                                           9.3\n",
       "                                                           ... \n",
       "['scifi', 'documentation']                                  NaN\n",
       "['thriller', 'comedy', 'romance']                           NaN\n",
       "['thriller', 'horror', 'animation', 'drama', 'european']    NaN\n",
       "['thriller', 'horror', 'european']                          NaN\n",
       "['western']                                                 NaN\n",
       "Name: imdb_score, Length: 1726, dtype: float64"
      ]
     },
     "execution_count": 63,
     "metadata": {},
     "output_type": "execute_result"
    }
   ],
   "source": [
    "high.sort_values(ascending=False)"
   ]
  },
  {
   "cell_type": "markdown",
   "id": "9d436408-1771-420f-bf0e-73ec21b681fa",
   "metadata": {},
   "source": [
    "### MOST POPULAR genre is reality"
   ]
  },
  {
   "cell_type": "code",
   "execution_count": 65,
   "id": "9b08b59d-0371-490f-9c9d-74b2850dc83e",
   "metadata": {},
   "outputs": [
    {
     "data": {
      "text/plain": [
       "\"['thriller', 'drama', 'scifi']\""
      ]
     },
     "execution_count": 65,
     "metadata": {},
     "output_type": "execute_result"
    }
   ],
   "source": [
    "least = df.groupby(\"genres\")[\"imdb_score\"].min()\n",
    "least.idxmin()"
   ]
  },
  {
   "cell_type": "code",
   "execution_count": 68,
   "id": "e334fee7-bef2-46aa-a65a-28528c94725b",
   "metadata": {},
   "outputs": [
    {
     "data": {
      "text/plain": [
       "genres\n",
       "['thriller', 'drama', 'scifi']                              1.5\n",
       "['comedy', 'family', 'european']                            1.6\n",
       "['comedy', 'drama', 'action']                               1.7\n",
       "['comedy']                                                  1.9\n",
       "['comedy', 'family']                                        2.0\n",
       "                                                           ... \n",
       "['scifi', 'documentation']                                  NaN\n",
       "['thriller', 'comedy', 'romance']                           NaN\n",
       "['thriller', 'horror', 'animation', 'drama', 'european']    NaN\n",
       "['thriller', 'horror', 'european']                          NaN\n",
       "['western']                                                 NaN\n",
       "Name: imdb_score, Length: 1726, dtype: float64"
      ]
     },
     "execution_count": 68,
     "metadata": {},
     "output_type": "execute_result"
    }
   ],
   "source": [
    "least.sort_values()"
   ]
  },
  {
   "cell_type": "markdown",
   "id": "b249dc10-aaa3-4740-a952-87c50c70307a",
   "metadata": {},
   "source": [
    "### LEAST POPULAR genres are thriller,drama and science fiction"
   ]
  },
  {
   "cell_type": "code",
   "execution_count": 70,
   "id": "3267bd4a-7e4c-402a-8d43-60a2118c4fdf",
   "metadata": {},
   "outputs": [
    {
     "data": {
      "text/plain": [
       "\"['comedy']\""
      ]
     },
     "execution_count": 70,
     "metadata": {},
     "output_type": "execute_result"
    }
   ],
   "source": [
    "movie[\"genres\"].value_counts().idxmax()"
   ]
  },
  {
   "cell_type": "code",
   "execution_count": 74,
   "id": "a5833c92-e336-49d4-8d57-4b4a8b6996e0",
   "metadata": {},
   "outputs": [
    {
     "data": {
      "text/plain": [
       "genres\n",
       "['comedy']                                           384\n",
       "['documentation']                                    230\n",
       "['drama']                                            224\n",
       "['comedy', 'documentation']                          100\n",
       "['comedy', 'drama']                                   84\n",
       "                                                    ... \n",
       "['action', 'thriller', 'crime', 'sport']               1\n",
       "['animation', 'fantasy', 'family', 'comedy']           1\n",
       "['drama', 'horror', 'music', 'thriller', 'crime']      1\n",
       "['thriller', 'drama', 'horror', 'scifi']               1\n",
       "['thriller', 'family', 'horror', 'comedy']             1\n",
       "Name: count, Length: 1105, dtype: int64"
      ]
     },
     "execution_count": 74,
     "metadata": {},
     "output_type": "execute_result"
    }
   ],
   "source": [
    "movie[\"genres\"].value_counts().sort_values(ascending =False)"
   ]
  },
  {
   "cell_type": "code",
   "execution_count": 75,
   "id": "1fd586d3-59fc-4eaa-9669-827a3aa1736d",
   "metadata": {},
   "outputs": [
    {
     "data": {
      "text/plain": [
       "genres\n",
       "['drama', 'romance', 'thriller', 'horror']             1\n",
       "['action', 'crime', 'comedy']                          1\n",
       "['action', 'thriller', 'crime', 'sport']               1\n",
       "['animation', 'fantasy', 'family', 'comedy']           1\n",
       "['drama', 'horror', 'music', 'thriller', 'crime']      1\n",
       "                                                    ... \n",
       "['comedy', 'drama']                                   84\n",
       "['comedy', 'documentation']                          100\n",
       "['drama']                                            224\n",
       "['documentation']                                    230\n",
       "['comedy']                                           384\n",
       "Name: count, Length: 1105, dtype: int64"
      ]
     },
     "execution_count": 75,
     "metadata": {},
     "output_type": "execute_result"
    }
   ],
   "source": [
    "movie[\"genres\"].value_counts().sort_values()"
   ]
  },
  {
   "cell_type": "code",
   "execution_count": 71,
   "id": "881c8d18-25e7-4615-8cd9-11e318f74415",
   "metadata": {},
   "outputs": [
    {
     "data": {
      "text/plain": [
       "\"['animation', 'family', 'scifi']\""
      ]
     },
     "execution_count": 71,
     "metadata": {},
     "output_type": "execute_result"
    }
   ],
   "source": [
    "movie[\"genres\"].value_counts().idxmin()"
   ]
  },
  {
   "cell_type": "code",
   "execution_count": 72,
   "id": "740e1bc1-0733-43ee-805b-51781cee982d",
   "metadata": {},
   "outputs": [
    {
     "data": {
      "text/plain": [
       "\"['reality']\""
      ]
     },
     "execution_count": 72,
     "metadata": {},
     "output_type": "execute_result"
    }
   ],
   "source": [
    "show[\"genres\"].value_counts().idxmax()"
   ]
  },
  {
   "cell_type": "code",
   "execution_count": 73,
   "id": "ca4b9234-cc2d-4732-ad5b-d829fce5fd39",
   "metadata": {},
   "outputs": [
    {
     "data": {
      "text/plain": [
       "\"['animation', 'comedy', 'family', 'music', 'fantasy', 'european']\""
      ]
     },
     "execution_count": 73,
     "metadata": {},
     "output_type": "execute_result"
    }
   ],
   "source": [
    "show[\"genres\"].value_counts().idxmin()"
   ]
  },
  {
   "cell_type": "code",
   "execution_count": 78,
   "id": "266cb365-548a-48c9-8aa0-cbf1f90edb38",
   "metadata": {},
   "outputs": [],
   "source": [
    "more_popular=movie.groupby(\"genres\")[\"imdb_score\"].max()"
   ]
  },
  {
   "cell_type": "code",
   "execution_count": 79,
   "id": "07d1df1c-0f59-4959-8221-4b47336e6985",
   "metadata": {},
   "outputs": [
    {
     "data": {
      "text/plain": [
       "genres\n",
       "['animation']                                               9.1\n",
       "['action', 'drama']                                         9.1\n",
       "['documentation']                                           8.9\n",
       "['drama']                                                   8.9\n",
       "['drama', 'romance']                                        8.8\n",
       "                                                           ... \n",
       "['fantasy', 'comedy', 'animation']                          NaN\n",
       "['fantasy', 'scifi']                                        NaN\n",
       "['thriller', 'comedy', 'romance']                           NaN\n",
       "['thriller', 'horror', 'animation', 'drama', 'european']    NaN\n",
       "['thriller', 'horror', 'european']                          NaN\n",
       "Name: imdb_score, Length: 1105, dtype: float64"
      ]
     },
     "execution_count": 79,
     "metadata": {},
     "output_type": "execute_result"
    }
   ],
   "source": [
    "more_popular.sort_values(ascending =False)"
   ]
  },
  {
   "cell_type": "code",
   "execution_count": 80,
   "id": "d42690f0-0d56-4e7c-9979-d16994c4f790",
   "metadata": {},
   "outputs": [
    {
     "data": {
      "text/plain": [
       "genres\n",
       "['thriller', 'drama', 'scifi']                              1.5\n",
       "['comedy', 'family', 'european']                            1.6\n",
       "['comedy', 'drama', 'action']                               1.7\n",
       "['comedy']                                                  1.9\n",
       "['comedy', 'family']                                        2.0\n",
       "                                                           ... \n",
       "['fantasy', 'comedy', 'animation']                          NaN\n",
       "['fantasy', 'scifi']                                        NaN\n",
       "['thriller', 'comedy', 'romance']                           NaN\n",
       "['thriller', 'horror', 'animation', 'drama', 'european']    NaN\n",
       "['thriller', 'horror', 'european']                          NaN\n",
       "Name: imdb_score, Length: 1105, dtype: float64"
      ]
     },
     "execution_count": 80,
     "metadata": {},
     "output_type": "execute_result"
    }
   ],
   "source": [
    "least_popular=movie.groupby(\"genres\")[\"imdb_score\"].min()\n",
    "least_popular.sort_values()"
   ]
  },
  {
   "cell_type": "code",
   "execution_count": 82,
   "id": "7f01a59b-5bc2-45e9-a204-68f14ffe35ea",
   "metadata": {},
   "outputs": [
    {
     "data": {
      "text/plain": [
       "genres\n",
       "[]                                                       9.6\n",
       "['reality']                                              9.5\n",
       "['drama', 'crime', 'thriller']                           9.5\n",
       "['documentation']                                        9.3\n",
       "['scifi', 'animation', 'action', 'family', 'fantasy']    9.3\n",
       "                                                        ... \n",
       "['scifi', 'documentation']                               NaN\n",
       "['scifi', 'thriller', 'action']                          NaN\n",
       "['thriller']                                             NaN\n",
       "['war']                                                  NaN\n",
       "['western']                                              NaN\n",
       "Name: imdb_score, Length: 846, dtype: float64"
      ]
     },
     "execution_count": 82,
     "metadata": {},
     "output_type": "execute_result"
    }
   ],
   "source": [
    "more_popular=show.groupby(\"genres\")[\"imdb_score\"].max()\n",
    "more_popular.sort_values(ascending=False)"
   ]
  },
  {
   "cell_type": "code",
   "execution_count": 83,
   "id": "8d412c8f-cfed-41b3-9d10-cb968d48c41f",
   "metadata": {},
   "outputs": [
    {
     "data": {
      "text/plain": [
       "genres\n",
       "['drama', 'comedy', 'romance', 'fantasy']                         2.0\n",
       "['animation', 'fantasy', 'drama', 'family', 'music', 'comedy']    2.0\n",
       "['reality']                                                       2.1\n",
       "['drama', 'horror']                                               2.3\n",
       "['reality', 'comedy']                                             2.4\n",
       "                                                                 ... \n",
       "['scifi', 'documentation']                                        NaN\n",
       "['scifi', 'thriller', 'action']                                   NaN\n",
       "['thriller']                                                      NaN\n",
       "['war']                                                           NaN\n",
       "['western']                                                       NaN\n",
       "Name: imdb_score, Length: 846, dtype: float64"
      ]
     },
     "execution_count": 83,
     "metadata": {},
     "output_type": "execute_result"
    }
   ],
   "source": [
    "least_popular=show.groupby(\"genres\")[\"imdb_score\"].min()\n",
    "least_popular.sort_values()"
   ]
  },
  {
   "cell_type": "code",
   "execution_count": 84,
   "id": "2d1e61b9-1169-4f9a-93ad-ceafcef39404",
   "metadata": {},
   "outputs": [
    {
     "data": {
      "text/plain": [
       "production_countries\n",
       "['US']                1959\n",
       "['IN']                 599\n",
       "['JP']                 264\n",
       "[]                     229\n",
       "['KR']                 222\n",
       "                      ... \n",
       "['ES', 'PE']             1\n",
       "['BE', 'GB', 'DE']       1\n",
       "['ZA', 'GB', 'US']       1\n",
       "['CL', 'PE']             1\n",
       "['CA', 'CN', 'US']       1\n",
       "Name: count, Length: 452, dtype: int64"
      ]
     },
     "execution_count": 84,
     "metadata": {},
     "output_type": "execute_result"
    }
   ],
   "source": [
    "df[\"production_countries\"].value_counts()"
   ]
  },
  {
   "cell_type": "code",
   "execution_count": 90,
   "id": "5e364188-c3c1-4356-aad1-3262863df78d",
   "metadata": {},
   "outputs": [
    {
     "data": {
      "text/plain": [
       "\"['US']\""
      ]
     },
     "execution_count": 90,
     "metadata": {},
     "output_type": "execute_result"
    }
   ],
   "source": [
    "df[\"production_countries\"].value_counts().idxmax()"
   ]
  },
  {
   "cell_type": "code",
   "execution_count": 95,
   "id": "3119c75d-5f80-4744-8881-e7615735eebb",
   "metadata": {},
   "outputs": [
    {
     "data": {
      "text/plain": [
       "production_countries\n",
       "['US']                1959\n",
       "['IN']                 599\n",
       "['JP']                 264\n",
       "[]                     229\n",
       "['KR']                 222\n",
       "                      ... \n",
       "['ES', 'PE']             1\n",
       "['BE', 'GB', 'DE']       1\n",
       "['ZA', 'GB', 'US']       1\n",
       "['CL', 'PE']             1\n",
       "['CA', 'CN', 'US']       1\n",
       "Name: count, Length: 452, dtype: int64"
      ]
     },
     "execution_count": 95,
     "metadata": {},
     "output_type": "execute_result"
    }
   ],
   "source": [
    "data=df[\"production_countries\"].value_counts().sort_values(ascending = False)\n",
    "data"
   ]
  },
  {
   "cell_type": "code",
   "execution_count": 97,
   "id": "bc73ef0d-befa-42d4-8b30-0b4055c39990",
   "metadata": {},
   "outputs": [
    {
     "data": {
      "text/plain": [
       "production_countries\n",
       "['US']    1959\n",
       "['IN']     599\n",
       "['JP']     264\n",
       "[]         229\n",
       "['KR']     222\n",
       "['GB']     218\n",
       "Name: count, dtype: int64"
      ]
     },
     "execution_count": 97,
     "metadata": {},
     "output_type": "execute_result"
    }
   ],
   "source": [
    "data.head(6)"
   ]
  },
  {
   "cell_type": "code",
   "execution_count": 99,
   "id": "1d9c1a39-3fe7-40e7-8200-61931c327641",
   "metadata": {},
   "outputs": [
    {
     "data": {
      "text/plain": [
       "\"['US']\""
      ]
     },
     "execution_count": 99,
     "metadata": {},
     "output_type": "execute_result"
    }
   ],
   "source": [
    "movie[\"production_countries\"].value_counts().idxmax()"
   ]
  },
  {
   "cell_type": "code",
   "execution_count": 102,
   "id": "fec8f0b2-eff4-4aa8-90c0-c8ba0ac8b747",
   "metadata": {},
   "outputs": [
    {
     "data": {
      "text/plain": [
       "production_countries\n",
       "['US']    1184\n",
       "['IN']     555\n",
       "[]         161\n",
       "['JP']      99\n",
       "['ES']      92\n",
       "['GB']      87\n",
       "Name: count, dtype: int64"
      ]
     },
     "execution_count": 102,
     "metadata": {},
     "output_type": "execute_result"
    }
   ],
   "source": [
    "df2=movie[\"production_countries\"].value_counts().sort_values(ascending=False)\n",
    "df2.head(6)"
   ]
  },
  {
   "cell_type": "code",
   "execution_count": 100,
   "id": "fb19af9c-8836-4f73-92e6-28d94dd34c58",
   "metadata": {},
   "outputs": [
    {
     "data": {
      "text/plain": [
       "\"['US']\""
      ]
     },
     "execution_count": 100,
     "metadata": {},
     "output_type": "execute_result"
    }
   ],
   "source": [
    "show[\"production_countries\"].value_counts().idxmax()"
   ]
  },
  {
   "cell_type": "code",
   "execution_count": 103,
   "id": "3e026c08-f781-47b7-b902-73b8fbf58384",
   "metadata": {},
   "outputs": [
    {
     "data": {
      "text/plain": [
       "production_countries\n",
       "['US']    775\n",
       "['KR']    178\n",
       "['JP']    165\n",
       "['GB']    131\n",
       "['ES']     69\n",
       "[]         68\n",
       "Name: count, dtype: int64"
      ]
     },
     "execution_count": 103,
     "metadata": {},
     "output_type": "execute_result"
    }
   ],
   "source": [
    "df2=show[\"production_countries\"].value_counts().sort_values(ascending=False)\n",
    "df2.head(6)"
   ]
  },
  {
   "cell_type": "code",
   "execution_count": 109,
   "id": "be91cc1c-cc46-4b5b-829b-7ab167fb6ece",
   "metadata": {},
   "outputs": [
    {
     "data": {
      "text/plain": [
       "length_category\n",
       "Medium    2419\n",
       "Short     1163\n",
       "Long       162\n",
       "Name: count, dtype: int64"
      ]
     },
     "execution_count": 109,
     "metadata": {},
     "output_type": "execute_result"
    }
   ],
   "source": [
    "movie[\"length_category\"].value_counts()"
   ]
  },
  {
   "cell_type": "code",
   "execution_count": 117,
   "id": "48453325-8a02-4f17-9f73-484ed7e4d59c",
   "metadata": {},
   "outputs": [
    {
     "data": {
      "text/html": [
       "<div>\n",
       "<style scoped>\n",
       "    .dataframe tbody tr th:only-of-type {\n",
       "        vertical-align: middle;\n",
       "    }\n",
       "\n",
       "    .dataframe tbody tr th {\n",
       "        vertical-align: top;\n",
       "    }\n",
       "\n",
       "    .dataframe thead th {\n",
       "        text-align: right;\n",
       "    }\n",
       "</style>\n",
       "<table border=\"1\" class=\"dataframe\">\n",
       "  <thead>\n",
       "    <tr style=\"text-align: right;\">\n",
       "      <th></th>\n",
       "      <th>id</th>\n",
       "      <th>title</th>\n",
       "      <th>type</th>\n",
       "      <th>description</th>\n",
       "      <th>release_year</th>\n",
       "      <th>age_certification</th>\n",
       "      <th>runtime</th>\n",
       "      <th>genres</th>\n",
       "      <th>production_countries</th>\n",
       "      <th>seasons</th>\n",
       "      <th>imdb_id</th>\n",
       "      <th>imdb_score</th>\n",
       "      <th>imdb_votes</th>\n",
       "      <th>tmdb_popularity</th>\n",
       "      <th>tmdb_score</th>\n",
       "      <th>length</th>\n",
       "    </tr>\n",
       "  </thead>\n",
       "  <tbody>\n",
       "    <tr>\n",
       "      <th>0</th>\n",
       "      <td>ts300399</td>\n",
       "      <td>Five Came Back: The Reference Films</td>\n",
       "      <td>SHOW</td>\n",
       "      <td>This collection includes 12 World War II-era p...</td>\n",
       "      <td>1945</td>\n",
       "      <td>TV-MA</td>\n",
       "      <td>51</td>\n",
       "      <td>['documentation']</td>\n",
       "      <td>['US']</td>\n",
       "      <td>1.0</td>\n",
       "      <td>NaN</td>\n",
       "      <td>NaN</td>\n",
       "      <td>NaN</td>\n",
       "      <td>0.600</td>\n",
       "      <td>NaN</td>\n",
       "      <td>short</td>\n",
       "    </tr>\n",
       "    <tr>\n",
       "      <th>1</th>\n",
       "      <td>tm84618</td>\n",
       "      <td>Taxi Driver</td>\n",
       "      <td>MOVIE</td>\n",
       "      <td>A mentally unstable Vietnam War veteran works ...</td>\n",
       "      <td>1976</td>\n",
       "      <td>R</td>\n",
       "      <td>114</td>\n",
       "      <td>['drama', 'crime']</td>\n",
       "      <td>['US']</td>\n",
       "      <td>NaN</td>\n",
       "      <td>tt0075314</td>\n",
       "      <td>8.2</td>\n",
       "      <td>808582.0</td>\n",
       "      <td>40.965</td>\n",
       "      <td>8.179</td>\n",
       "      <td>medium</td>\n",
       "    </tr>\n",
       "  </tbody>\n",
       "</table>\n",
       "</div>"
      ],
      "text/plain": [
       "         id                                title   type  \\\n",
       "0  ts300399  Five Came Back: The Reference Films   SHOW   \n",
       "1   tm84618                          Taxi Driver  MOVIE   \n",
       "\n",
       "                                         description  release_year  \\\n",
       "0  This collection includes 12 World War II-era p...          1945   \n",
       "1  A mentally unstable Vietnam War veteran works ...          1976   \n",
       "\n",
       "  age_certification  runtime              genres production_countries  \\\n",
       "0             TV-MA       51   ['documentation']               ['US']   \n",
       "1                 R      114  ['drama', 'crime']               ['US']   \n",
       "\n",
       "   seasons    imdb_id  imdb_score  imdb_votes  tmdb_popularity  tmdb_score  \\\n",
       "0      1.0        NaN         NaN         NaN            0.600         NaN   \n",
       "1      NaN  tt0075314         8.2    808582.0           40.965       8.179   \n",
       "\n",
       "   length  \n",
       "0   short  \n",
       "1  medium  "
      ]
     },
     "execution_count": 117,
     "metadata": {},
     "output_type": "execute_result"
    }
   ],
   "source": [
    "df['length'] = df['runtime'].apply(lambda x: 'Long' if x > 150 else('short' if x<90 else 'medium'))\n",
    "df.head(2)"
   ]
  },
  {
   "cell_type": "code",
   "execution_count": 118,
   "id": "c7c1aae8-9d0b-4b25-9283-2a5c78586b06",
   "metadata": {},
   "outputs": [
    {
     "data": {
      "text/plain": [
       "length\n",
       "Long      6.829487\n",
       "medium    6.224989\n",
       "short     6.725252\n",
       "Name: imdb_score, dtype: float64"
      ]
     },
     "execution_count": 118,
     "metadata": {},
     "output_type": "execute_result"
    }
   ],
   "source": [
    "df.groupby('length')['imdb_score'].mean()"
   ]
  },
  {
   "cell_type": "code",
   "execution_count": 120,
   "id": "2ade83ac-1514-41ae-9701-c33e28e60fb9",
   "metadata": {},
   "outputs": [
    {
     "data": {
      "text/plain": [
       "length\n",
       "Long      75620.487179\n",
       "medium    32256.995710\n",
       "short     13423.986736\n",
       "Name: imdb_votes, dtype: float64"
      ]
     },
     "execution_count": 120,
     "metadata": {},
     "output_type": "execute_result"
    }
   ],
   "source": [
    "df.groupby('length')['imdb_votes'].mean()"
   ]
  },
  {
   "cell_type": "markdown",
   "id": "8c1e37b0-fec0-4a52-82ba-67004cee7c09",
   "metadata": {},
   "source": [
    "### On basis of imdb rating , people prefer long movies \n",
    "### On basis of imdb voting, people prefer short movies"
   ]
  },
  {
   "cell_type": "code",
   "execution_count": 123,
   "id": "0ad84ccb-9438-48fa-bf33-c81a514cc7ae",
   "metadata": {},
   "outputs": [
    {
     "data": {
      "text/html": [
       "<div>\n",
       "<style scoped>\n",
       "    .dataframe tbody tr th:only-of-type {\n",
       "        vertical-align: middle;\n",
       "    }\n",
       "\n",
       "    .dataframe tbody tr th {\n",
       "        vertical-align: top;\n",
       "    }\n",
       "\n",
       "    .dataframe thead th {\n",
       "        text-align: right;\n",
       "    }\n",
       "</style>\n",
       "<table border=\"1\" class=\"dataframe\">\n",
       "  <thead>\n",
       "    <tr style=\"text-align: right;\">\n",
       "      <th></th>\n",
       "      <th>id</th>\n",
       "      <th>title</th>\n",
       "      <th>type</th>\n",
       "      <th>description</th>\n",
       "      <th>release_year</th>\n",
       "      <th>age_certification</th>\n",
       "      <th>runtime</th>\n",
       "      <th>genres</th>\n",
       "      <th>production_countries</th>\n",
       "      <th>seasons</th>\n",
       "      <th>imdb_id</th>\n",
       "      <th>imdb_score</th>\n",
       "      <th>imdb_votes</th>\n",
       "      <th>tmdb_popularity</th>\n",
       "      <th>tmdb_score</th>\n",
       "      <th>length_category</th>\n",
       "    </tr>\n",
       "  </thead>\n",
       "  <tbody>\n",
       "    <tr>\n",
       "      <th>237</th>\n",
       "      <td>tm92641</td>\n",
       "      <td>Inception</td>\n",
       "      <td>MOVIE</td>\n",
       "      <td>Cobb, a skilled thief who commits corporate es...</td>\n",
       "      <td>2010</td>\n",
       "      <td>PG-13</td>\n",
       "      <td>148</td>\n",
       "      <td>['action', 'scifi', 'music', 'thriller']</td>\n",
       "      <td>['US', 'GB']</td>\n",
       "      <td>NaN</td>\n",
       "      <td>tt1375666</td>\n",
       "      <td>8.8</td>\n",
       "      <td>2294231.0</td>\n",
       "      <td>108.284</td>\n",
       "      <td>8.4</td>\n",
       "      <td>Medium</td>\n",
       "    </tr>\n",
       "  </tbody>\n",
       "</table>\n",
       "</div>"
      ],
      "text/plain": [
       "          id      title   type  \\\n",
       "237  tm92641  Inception  MOVIE   \n",
       "\n",
       "                                           description  release_year  \\\n",
       "237  Cobb, a skilled thief who commits corporate es...          2010   \n",
       "\n",
       "    age_certification  runtime                                    genres  \\\n",
       "237             PG-13      148  ['action', 'scifi', 'music', 'thriller']   \n",
       "\n",
       "    production_countries  seasons    imdb_id  imdb_score  imdb_votes  \\\n",
       "237         ['US', 'GB']      NaN  tt1375666         8.8   2294231.0   \n",
       "\n",
       "     tmdb_popularity  tmdb_score length_category  \n",
       "237          108.284         8.4          Medium  "
      ]
     },
     "execution_count": 123,
     "metadata": {},
     "output_type": "execute_result"
    }
   ],
   "source": [
    "max_votes=movie[\"imdb_votes\"].max()\n",
    "movie[movie[\"imdb_votes\"]==max_votes]"
   ]
  },
  {
   "cell_type": "markdown",
   "id": "5ce92fa5-268b-494e-a335-00580663f1a7",
   "metadata": {},
   "source": [
    "### Inception is most voted movie on IMDB"
   ]
  },
  {
   "cell_type": "code",
   "execution_count": 125,
   "id": "d1c7d313-0fe0-48f2-854a-3932e4c95d33",
   "metadata": {},
   "outputs": [
    {
     "data": {
      "text/html": [
       "<div>\n",
       "<style scoped>\n",
       "    .dataframe tbody tr th:only-of-type {\n",
       "        vertical-align: middle;\n",
       "    }\n",
       "\n",
       "    .dataframe tbody tr th {\n",
       "        vertical-align: top;\n",
       "    }\n",
       "\n",
       "    .dataframe thead th {\n",
       "        text-align: right;\n",
       "    }\n",
       "</style>\n",
       "<table border=\"1\" class=\"dataframe\">\n",
       "  <thead>\n",
       "    <tr style=\"text-align: right;\">\n",
       "      <th></th>\n",
       "      <th>id</th>\n",
       "      <th>title</th>\n",
       "      <th>type</th>\n",
       "      <th>description</th>\n",
       "      <th>release_year</th>\n",
       "      <th>age_certification</th>\n",
       "      <th>runtime</th>\n",
       "      <th>genres</th>\n",
       "      <th>production_countries</th>\n",
       "      <th>seasons</th>\n",
       "      <th>imdb_id</th>\n",
       "      <th>imdb_score</th>\n",
       "      <th>imdb_votes</th>\n",
       "      <th>tmdb_popularity</th>\n",
       "      <th>tmdb_score</th>\n",
       "      <th>length_category</th>\n",
       "    </tr>\n",
       "  </thead>\n",
       "  <tbody>\n",
       "    <tr>\n",
       "      <th>2798</th>\n",
       "      <td>tm407349</td>\n",
       "      <td>The Birth Reborn 2</td>\n",
       "      <td>MOVIE</td>\n",
       "      <td>NaN</td>\n",
       "      <td>2018</td>\n",
       "      <td>PG</td>\n",
       "      <td>91</td>\n",
       "      <td>['documentation']</td>\n",
       "      <td>['BR']</td>\n",
       "      <td>NaN</td>\n",
       "      <td>tt16114198</td>\n",
       "      <td>6.6</td>\n",
       "      <td>5.0</td>\n",
       "      <td>1.400</td>\n",
       "      <td>5.8</td>\n",
       "      <td>Medium</td>\n",
       "    </tr>\n",
       "    <tr>\n",
       "      <th>4470</th>\n",
       "      <td>tm835414</td>\n",
       "      <td>Sitara</td>\n",
       "      <td>MOVIE</td>\n",
       "      <td>A Bangaldeshi housewife crosses the border to ...</td>\n",
       "      <td>2019</td>\n",
       "      <td>NaN</td>\n",
       "      <td>128</td>\n",
       "      <td>['drama', 'animation']</td>\n",
       "      <td>['IN']</td>\n",
       "      <td>NaN</td>\n",
       "      <td>tt7654668</td>\n",
       "      <td>8.0</td>\n",
       "      <td>5.0</td>\n",
       "      <td>1.115</td>\n",
       "      <td>7.1</td>\n",
       "      <td>Medium</td>\n",
       "    </tr>\n",
       "    <tr>\n",
       "      <th>4564</th>\n",
       "      <td>tm1041549</td>\n",
       "      <td>Dear Affy</td>\n",
       "      <td>MOVIE</td>\n",
       "      <td>An engaged couple hit a number of speed bumps ...</td>\n",
       "      <td>2020</td>\n",
       "      <td>NaN</td>\n",
       "      <td>126</td>\n",
       "      <td>['romance', 'comedy']</td>\n",
       "      <td>['NG']</td>\n",
       "      <td>NaN</td>\n",
       "      <td>tt14928724</td>\n",
       "      <td>5.2</td>\n",
       "      <td>5.0</td>\n",
       "      <td>0.939</td>\n",
       "      <td>NaN</td>\n",
       "      <td>Medium</td>\n",
       "    </tr>\n",
       "  </tbody>\n",
       "</table>\n",
       "</div>"
      ],
      "text/plain": [
       "             id               title   type  \\\n",
       "2798   tm407349  The Birth Reborn 2  MOVIE   \n",
       "4470   tm835414              Sitara  MOVIE   \n",
       "4564  tm1041549           Dear Affy  MOVIE   \n",
       "\n",
       "                                            description  release_year  \\\n",
       "2798                                                NaN          2018   \n",
       "4470  A Bangaldeshi housewife crosses the border to ...          2019   \n",
       "4564  An engaged couple hit a number of speed bumps ...          2020   \n",
       "\n",
       "     age_certification  runtime                  genres production_countries  \\\n",
       "2798                PG       91       ['documentation']               ['BR']   \n",
       "4470               NaN      128  ['drama', 'animation']               ['IN']   \n",
       "4564               NaN      126   ['romance', 'comedy']               ['NG']   \n",
       "\n",
       "      seasons     imdb_id  imdb_score  imdb_votes  tmdb_popularity  \\\n",
       "2798      NaN  tt16114198         6.6         5.0            1.400   \n",
       "4470      NaN   tt7654668         8.0         5.0            1.115   \n",
       "4564      NaN  tt14928724         5.2         5.0            0.939   \n",
       "\n",
       "      tmdb_score length_category  \n",
       "2798         5.8          Medium  \n",
       "4470         7.1          Medium  \n",
       "4564         NaN          Medium  "
      ]
     },
     "execution_count": 125,
     "metadata": {},
     "output_type": "execute_result"
    }
   ],
   "source": [
    "min_votes=movie[\"imdb_votes\"].min()\n",
    "movie[movie[\"imdb_votes\"]==min_votes]"
   ]
  },
  {
   "cell_type": "markdown",
   "id": "03667884-edec-486e-8562-240d68ea514a",
   "metadata": {},
   "source": [
    "### The Birth Reborn 2 , Sitara\tand Dear Affy is least voted movie on IMDB"
   ]
  },
  {
   "cell_type": "code",
   "execution_count": 126,
   "id": "38b28500-b9f8-41d3-96d2-32acfab6755e",
   "metadata": {},
   "outputs": [
    {
     "data": {
      "text/html": [
       "<div>\n",
       "<style scoped>\n",
       "    .dataframe tbody tr th:only-of-type {\n",
       "        vertical-align: middle;\n",
       "    }\n",
       "\n",
       "    .dataframe tbody tr th {\n",
       "        vertical-align: top;\n",
       "    }\n",
       "\n",
       "    .dataframe thead th {\n",
       "        text-align: right;\n",
       "    }\n",
       "</style>\n",
       "<table border=\"1\" class=\"dataframe\">\n",
       "  <thead>\n",
       "    <tr style=\"text-align: right;\">\n",
       "      <th></th>\n",
       "      <th>id</th>\n",
       "      <th>title</th>\n",
       "      <th>type</th>\n",
       "      <th>description</th>\n",
       "      <th>release_year</th>\n",
       "      <th>age_certification</th>\n",
       "      <th>runtime</th>\n",
       "      <th>genres</th>\n",
       "      <th>production_countries</th>\n",
       "      <th>seasons</th>\n",
       "      <th>imdb_id</th>\n",
       "      <th>imdb_score</th>\n",
       "      <th>imdb_votes</th>\n",
       "      <th>tmdb_popularity</th>\n",
       "      <th>tmdb_score</th>\n",
       "    </tr>\n",
       "  </thead>\n",
       "  <tbody>\n",
       "    <tr>\n",
       "      <th>216</th>\n",
       "      <td>ts4</td>\n",
       "      <td>Breaking Bad</td>\n",
       "      <td>SHOW</td>\n",
       "      <td>When Walter White, a New Mexico chemistry teac...</td>\n",
       "      <td>2008</td>\n",
       "      <td>TV-MA</td>\n",
       "      <td>48</td>\n",
       "      <td>['drama', 'crime', 'thriller']</td>\n",
       "      <td>['US']</td>\n",
       "      <td>5.0</td>\n",
       "      <td>tt0903747</td>\n",
       "      <td>9.5</td>\n",
       "      <td>1775990.0</td>\n",
       "      <td>353.848</td>\n",
       "      <td>8.79</td>\n",
       "    </tr>\n",
       "  </tbody>\n",
       "</table>\n",
       "</div>"
      ],
      "text/plain": [
       "      id         title  type  \\\n",
       "216  ts4  Breaking Bad  SHOW   \n",
       "\n",
       "                                           description  release_year  \\\n",
       "216  When Walter White, a New Mexico chemistry teac...          2008   \n",
       "\n",
       "    age_certification  runtime                          genres  \\\n",
       "216             TV-MA       48  ['drama', 'crime', 'thriller']   \n",
       "\n",
       "    production_countries  seasons    imdb_id  imdb_score  imdb_votes  \\\n",
       "216               ['US']      5.0  tt0903747         9.5   1775990.0   \n",
       "\n",
       "     tmdb_popularity  tmdb_score  \n",
       "216          353.848        8.79  "
      ]
     },
     "execution_count": 126,
     "metadata": {},
     "output_type": "execute_result"
    }
   ],
   "source": [
    "max_votes=show[\"imdb_votes\"].max()\n",
    "show[show[\"imdb_votes\"]==max_votes]"
   ]
  },
  {
   "cell_type": "code",
   "execution_count": 127,
   "id": "9483b94d-bf57-4aa8-805d-4404039b2160",
   "metadata": {},
   "outputs": [
    {
     "data": {
      "text/html": [
       "<div>\n",
       "<style scoped>\n",
       "    .dataframe tbody tr th:only-of-type {\n",
       "        vertical-align: middle;\n",
       "    }\n",
       "\n",
       "    .dataframe tbody tr th {\n",
       "        vertical-align: top;\n",
       "    }\n",
       "\n",
       "    .dataframe thead th {\n",
       "        text-align: right;\n",
       "    }\n",
       "</style>\n",
       "<table border=\"1\" class=\"dataframe\">\n",
       "  <thead>\n",
       "    <tr style=\"text-align: right;\">\n",
       "      <th></th>\n",
       "      <th>id</th>\n",
       "      <th>title</th>\n",
       "      <th>type</th>\n",
       "      <th>description</th>\n",
       "      <th>release_year</th>\n",
       "      <th>age_certification</th>\n",
       "      <th>runtime</th>\n",
       "      <th>genres</th>\n",
       "      <th>production_countries</th>\n",
       "      <th>seasons</th>\n",
       "      <th>imdb_id</th>\n",
       "      <th>imdb_score</th>\n",
       "      <th>imdb_votes</th>\n",
       "      <th>tmdb_popularity</th>\n",
       "      <th>tmdb_score</th>\n",
       "    </tr>\n",
       "  </thead>\n",
       "  <tbody>\n",
       "    <tr>\n",
       "      <th>5257</th>\n",
       "      <td>ts312094</td>\n",
       "      <td>JAPAN SINKS: People of Hope</td>\n",
       "      <td>SHOW</td>\n",
       "      <td>In 2023 in Tokyo, Prime Minister Eiichi Higash...</td>\n",
       "      <td>2021</td>\n",
       "      <td>TV-14</td>\n",
       "      <td>55</td>\n",
       "      <td>['scifi', 'war', 'drama']</td>\n",
       "      <td>['JP']</td>\n",
       "      <td>1.0</td>\n",
       "      <td>tt15569106</td>\n",
       "      <td>6.0</td>\n",
       "      <td>5.0</td>\n",
       "      <td>7.557</td>\n",
       "      <td>6.5</td>\n",
       "    </tr>\n",
       "    <tr>\n",
       "      <th>5670</th>\n",
       "      <td>ts296581</td>\n",
       "      <td>The Mystic River</td>\n",
       "      <td>SHOW</td>\n",
       "      <td>As pregnant women vanish in a remote Nigerian ...</td>\n",
       "      <td>2021</td>\n",
       "      <td>TV-14</td>\n",
       "      <td>40</td>\n",
       "      <td>['horror']</td>\n",
       "      <td>['US']</td>\n",
       "      <td>1.0</td>\n",
       "      <td>tt15134080</td>\n",
       "      <td>5.8</td>\n",
       "      <td>5.0</td>\n",
       "      <td>1.441</td>\n",
       "      <td>NaN</td>\n",
       "    </tr>\n",
       "    <tr>\n",
       "      <th>5830</th>\n",
       "      <td>ts288861</td>\n",
       "      <td>Let's Eat</td>\n",
       "      <td>SHOW</td>\n",
       "      <td>A food-blogging insurance agent encounters a f...</td>\n",
       "      <td>2021</td>\n",
       "      <td>TV-14</td>\n",
       "      <td>60</td>\n",
       "      <td>['drama', 'comedy']</td>\n",
       "      <td>['TH']</td>\n",
       "      <td>1.0</td>\n",
       "      <td>tt15978704</td>\n",
       "      <td>8.2</td>\n",
       "      <td>5.0</td>\n",
       "      <td>2.334</td>\n",
       "      <td>NaN</td>\n",
       "    </tr>\n",
       "  </tbody>\n",
       "</table>\n",
       "</div>"
      ],
      "text/plain": [
       "            id                        title  type  \\\n",
       "5257  ts312094  JAPAN SINKS: People of Hope  SHOW   \n",
       "5670  ts296581             The Mystic River  SHOW   \n",
       "5830  ts288861                    Let's Eat  SHOW   \n",
       "\n",
       "                                            description  release_year  \\\n",
       "5257  In 2023 in Tokyo, Prime Minister Eiichi Higash...          2021   \n",
       "5670  As pregnant women vanish in a remote Nigerian ...          2021   \n",
       "5830  A food-blogging insurance agent encounters a f...          2021   \n",
       "\n",
       "     age_certification  runtime                     genres  \\\n",
       "5257             TV-14       55  ['scifi', 'war', 'drama']   \n",
       "5670             TV-14       40                 ['horror']   \n",
       "5830             TV-14       60        ['drama', 'comedy']   \n",
       "\n",
       "     production_countries  seasons     imdb_id  imdb_score  imdb_votes  \\\n",
       "5257               ['JP']      1.0  tt15569106         6.0         5.0   \n",
       "5670               ['US']      1.0  tt15134080         5.8         5.0   \n",
       "5830               ['TH']      1.0  tt15978704         8.2         5.0   \n",
       "\n",
       "      tmdb_popularity  tmdb_score  \n",
       "5257            7.557         6.5  \n",
       "5670            1.441         NaN  \n",
       "5830            2.334         NaN  "
      ]
     },
     "execution_count": 127,
     "metadata": {},
     "output_type": "execute_result"
    }
   ],
   "source": [
    "min_votes=movie[\"imdb_votes\"].min()\n",
    "show[show[\"imdb_votes\"]==min_votes]"
   ]
  },
  {
   "cell_type": "markdown",
   "id": "28d41387-be65-4479-a5a5-326b73a74f4c",
   "metadata": {},
   "source": [
    "### Breaking Bed is most voted show on IMDB.\n",
    "### JAPAN SINKS , The Mystic River and Let's Eat is least voted show on IMDB"
   ]
  },
  {
   "cell_type": "code",
   "execution_count": 130,
   "id": "a3ebaefa-697d-4a04-a6db-9b66db80d4a3",
   "metadata": {},
   "outputs": [
    {
     "data": {
      "text/plain": [
       "age_certification\n",
       "TV-MA    883\n",
       "R        556\n",
       "TV-14    474\n",
       "PG-13    451\n",
       "PG       233\n",
       "TV-PG    188\n",
       "G        124\n",
       "TV-Y7    120\n",
       "TV-Y     107\n",
       "TV-G      79\n",
       "NC-17     16\n",
       "Name: count, dtype: int64"
      ]
     },
     "execution_count": 130,
     "metadata": {},
     "output_type": "execute_result"
    }
   ],
   "source": [
    "df['age_certification'].value_counts()"
   ]
  },
  {
   "cell_type": "markdown",
   "id": "e45bc366-af91-48f2-8119-fcaaf8311009",
   "metadata": {},
   "source": [
    "### MOST COMMON MATURITY RATING : TV-MA(ABOVE 17 YEARS)"
   ]
  },
  {
   "cell_type": "code",
   "execution_count": 131,
   "id": "aa5ece5e-5e65-4e81-b6dd-5f6b616002f0",
   "metadata": {},
   "outputs": [],
   "source": [
    "df2= pd.read_csv(\"credits.csv\")"
   ]
  },
  {
   "cell_type": "code",
   "execution_count": 132,
   "id": "7a81a85c-c777-49af-bcd9-26da4631b995",
   "metadata": {},
   "outputs": [
    {
     "data": {
      "text/html": [
       "<div>\n",
       "<style scoped>\n",
       "    .dataframe tbody tr th:only-of-type {\n",
       "        vertical-align: middle;\n",
       "    }\n",
       "\n",
       "    .dataframe tbody tr th {\n",
       "        vertical-align: top;\n",
       "    }\n",
       "\n",
       "    .dataframe thead th {\n",
       "        text-align: right;\n",
       "    }\n",
       "</style>\n",
       "<table border=\"1\" class=\"dataframe\">\n",
       "  <thead>\n",
       "    <tr style=\"text-align: right;\">\n",
       "      <th></th>\n",
       "      <th>person_id</th>\n",
       "      <th>id</th>\n",
       "      <th>name</th>\n",
       "      <th>character</th>\n",
       "      <th>role</th>\n",
       "    </tr>\n",
       "  </thead>\n",
       "  <tbody>\n",
       "    <tr>\n",
       "      <th>0</th>\n",
       "      <td>3748</td>\n",
       "      <td>tm84618</td>\n",
       "      <td>Robert De Niro</td>\n",
       "      <td>Travis Bickle</td>\n",
       "      <td>ACTOR</td>\n",
       "    </tr>\n",
       "    <tr>\n",
       "      <th>1</th>\n",
       "      <td>14658</td>\n",
       "      <td>tm84618</td>\n",
       "      <td>Jodie Foster</td>\n",
       "      <td>Iris Steensma</td>\n",
       "      <td>ACTOR</td>\n",
       "    </tr>\n",
       "    <tr>\n",
       "      <th>2</th>\n",
       "      <td>7064</td>\n",
       "      <td>tm84618</td>\n",
       "      <td>Albert Brooks</td>\n",
       "      <td>Tom</td>\n",
       "      <td>ACTOR</td>\n",
       "    </tr>\n",
       "  </tbody>\n",
       "</table>\n",
       "</div>"
      ],
      "text/plain": [
       "   person_id       id            name      character   role\n",
       "0       3748  tm84618  Robert De Niro  Travis Bickle  ACTOR\n",
       "1      14658  tm84618    Jodie Foster  Iris Steensma  ACTOR\n",
       "2       7064  tm84618   Albert Brooks            Tom  ACTOR"
      ]
     },
     "execution_count": 132,
     "metadata": {},
     "output_type": "execute_result"
    }
   ],
   "source": [
    "df2.head(3)"
   ]
  },
  {
   "cell_type": "code",
   "execution_count": 142,
   "id": "e5d6b84f-831a-472c-8e35-ba41ab253522",
   "metadata": {},
   "outputs": [],
   "source": [
    "data =pd.merge(df ,df2 ,on=\"id\")"
   ]
  },
  {
   "cell_type": "code",
   "execution_count": 157,
   "id": "8b4f16e3-237d-477b-a1c5-3521befb6b93",
   "metadata": {},
   "outputs": [
    {
     "data": {
      "text/plain": [
       "name\n",
       "Kareena Kapoor Khan    25\n",
       "Boman Irani            25\n",
       "Shah Rukh Khan         23\n",
       "Takahiro Sakurai       21\n",
       "Amitabh Bachchan       20\n",
       "                       ..\n",
       "Adelaida Buscato        1\n",
       "Luz Stella Luengas      1\n",
       "Inés Prieto             1\n",
       "Isabel Gaona            1\n",
       "Jodie Foster            1\n",
       "Name: count, Length: 54314, dtype: int64"
      ]
     },
     "execution_count": 157,
     "metadata": {},
     "output_type": "execute_result"
    }
   ],
   "source": [
    "data[\"name\"].value_counts().sort_values(ascending =False)"
   ]
  },
  {
   "cell_type": "markdown",
   "id": "05269d5e-aca7-435e-9106-6e89cb57e8c8",
   "metadata": {},
   "source": [
    "### Kareena Kapoor Khan is the  most frequent actress.\n",
    "### Boman Irani is the most frequent actor."
   ]
  },
  {
   "cell_type": "code",
   "execution_count": 146,
   "id": "b1eb0b38-cf58-43f1-8f3a-cdc8260a3c72",
   "metadata": {},
   "outputs": [
    {
     "data": {
      "text/plain": [
       "character\n",
       "Self                         1950\n",
       "Himself                      1276\n",
       "Herself                       426\n",
       "Self (archive footage)        330\n",
       "Dancer                        149\n",
       "                             ... \n",
       "Peichia                         1\n",
       "Chinchin's Father               1\n",
       "Personell Officer               1\n",
       "Melio, Delicatessen Owner       1\n",
       "Mafioso (uncredited)            1\n",
       "Name: count, Length: 47274, dtype: int64"
      ]
     },
     "execution_count": 146,
     "metadata": {},
     "output_type": "execute_result"
    }
   ],
   "source": [
    "data[\"character\"].value_counts()"
   ]
  },
  {
   "cell_type": "code",
   "execution_count": null,
   "id": "726cfa62-0aec-48df-870e-dfe1816521ad",
   "metadata": {},
   "outputs": [],
   "source": []
  }
 ],
 "metadata": {
  "kernelspec": {
   "display_name": "Python 3 (ipykernel)",
   "language": "python",
   "name": "python3"
  },
  "language_info": {
   "codemirror_mode": {
    "name": "ipython",
    "version": 3
   },
   "file_extension": ".py",
   "mimetype": "text/x-python",
   "name": "python",
   "nbconvert_exporter": "python",
   "pygments_lexer": "ipython3",
   "version": "3.11.11"
  }
 },
 "nbformat": 4,
 "nbformat_minor": 5
}
