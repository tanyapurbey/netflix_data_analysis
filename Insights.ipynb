{
 "cells": [
  {
   "cell_type": "markdown",
   "id": "5e5151a6-0f62-4d5a-a505-66a45e0f15c1",
   "metadata": {},
   "source": [
    "### Insights"
   ]
  },
  {
   "cell_type": "markdown",
   "id": "6d22c043-fa31-4b4c-8bd3-30eb5a0134f9",
   "metadata": {},
   "source": [
    "**1. Total no of all content**=5850 (released from 1945 to 2021)"
   ]
  },
  {
   "cell_type": "markdown",
   "id": "e233a15c-ec91-4f7a-a08a-0d3de49f7fa4",
   "metadata": {},
   "source": [
    "**2. RATIO OF MOVIES AND SHOWS:**\n",
    "\n",
    "   * Total number of movies= ***3744***\n",
    "   * Total number of shows= ***2106***\n",
    "\n"
   ]
  },
  {
   "cell_type": "markdown",
   "id": "d609fb87-bb0e-4e3a-ae3b-b7867c0e2ab0",
   "metadata": {},
   "source": [
    "**3. SEASONS  COUNT :**\n",
    "\n",
    "   * 1221 SHOWS has one season\n",
    "   * 389 SHOWS has two seasons\n",
    "   * 187 SHOWS has three seasons\n",
    "   * 120 SHOWS has 4 seasons\n",
    "   * 189 shows has more than 4 seasons\n",
    "\n",
    "\n",
    "CONCLUSION :\n",
    "Most directors used to prefer making single season of shows.\n",
    "\n"
   ]
  },
  {
   "cell_type": "markdown",
   "id": "77a66b47-0543-4398-a1a1-10cd05fb35d5",
   "metadata": {},
   "source": [
    "**4.MOST COMMON SHOW DURATION (LIKED BY AUDIENCE)**\n",
    "\n",
    "   * Most liked duration of shows is ***21 seasons***\n",
    "\n",
    "   * People prefer to see shows with more seasons\n",
    "\n"
   ]
  },
  {
   "cell_type": "markdown",
   "id": "4772e426-0206-47bd-b93c-424661a30c94",
   "metadata": {},
   "source": [
    "**5. HIGHTEST NUMBER OF SEASONS**\n",
    "\n",
    "   *  ***SURVIVOR*** has hightest number of seasons(42 seasons)\n",
    "\n"
   ]
  },
  {
   "cell_type": "markdown",
   "id": "9f6d6463-4863-4876-9c83-a552204e7c26",
   "metadata": {},
   "source": [
    "**6. YEAR WISE CONTENT :**\n",
    "\n",
    "   * ***2019*** is largest content producing year\n",
    "   * 1985 is least content producing year\n",
    "\n"
   ]
  },
  {
   "cell_type": "markdown",
   "id": "72f932ee-65b1-4f0e-999d-ba54cfe23b01",
   "metadata": {},
   "source": [
    "**7.YEARS WITH MAXIMUM AND MINIMUM SHOWS:**\n",
    "\n",
    "   * ***2020*** has produced maximum shows\n",
    "   * 1988 has produced minimum shows\n",
    "\n"
   ]
  },
  {
   "cell_type": "markdown",
   "id": "85da7849-8368-4e49-ba4e-fc5dfd3c8d1e",
   "metadata": {},
   "source": [
    "**8.YEARS WITH MAXIMUM AND MINIMUM MOVIES :**\n",
    "\n",
    "   * ***2019*** has produced maximum movies\n",
    "   * 1985 has produced minimum movies\n",
    "\n"
   ]
  },
  {
   "cell_type": "markdown",
   "id": "447853d4-15bf-4640-a970-cc99d874388b",
   "metadata": {},
   "source": [
    "**9.AVERAGE RUNTIME :**\n",
    "\n",
    "   * Average movie runtime : 98.21 MINUTES\n",
    "   * Average show runtime: 38.97 MINUTES\n",
    "\n"
   ]
  },
  {
   "cell_type": "markdown",
   "id": "9e0c78e1-fafb-4047-ab85-724abf192f64",
   "metadata": {},
   "source": [
    "**10.LONGEST AND SHORTEST MOVIE:**\n",
    "\n",
    "   * ***Bonnie &Cycle*** is the longest movie having 240 minutes released in 2013\n",
    "   * ***Time to Dance*** is the shortest movie having 2 minutes released in 2021\n",
    "\n"
   ]
  },
  {
   "cell_type": "markdown",
   "id": "93983795-4306-4d42-a80a-3fefc41042ab",
   "metadata": {},
   "source": [
    "**11. LONGEST AND SHORTEST SHOW(BASED ON RUNTIME):**\n",
    "\n",
    "   * ***A Lion in the House*** is the longest shows released in 2006(190 min)\n",
    "   * 14 shows having least runtime of 0 minutes\n",
    "\n"
   ]
  },
  {
   "cell_type": "markdown",
   "id": "862622ca-823b-4cda-98cc-725f16e430ea",
   "metadata": {},
   "source": [
    "**12. NUMBER OF SHORT AND LONG MOVIES:**\n",
    "\n",
    "   On considering THESE thresholds:\n",
    "   \n",
    "  Short movie: less than 90 minutes\n",
    "  Long movie: more than 150 minutes\n",
    "\n",
    "\n",
    "    * 1163 short movies\n",
    "    * 162 long movies\n",
    "\n",
    "CONCLUSION: ***DISTRIBUTION OF SHORT MOVIES IS MORE THAN LONG MOVIES***\n",
    "\n"
   ]
  },
  {
   "cell_type": "markdown",
   "id": "c0c63c58-8ce0-4373-ab84-486e44eea285",
   "metadata": {},
   "source": [
    "**13. PEOPLE PREFER LONG OR SHORT MOVIES**\n",
    "\n",
    "   * On basis of imdb rating , people prefer long movies \n",
    "   * On basis of imdb voting, people prefer short movies\n"
   ]
  },
  {
   "cell_type": "markdown",
   "id": "7c7e6132-8e01-4beb-81f8-8266048daad5",
   "metadata": {},
   "source": [
    "**14.IMDB RATING (MOVIES):**\n",
    "\n",
    "    * Greatest imdb score movie\n",
    "            1.Chhota Bheem & Krishna vs Zimbara(2013): 9.1\n",
    "            2.Major (2022): 9.1\n",
    "\n",
    "   TIES BETWEEN TWO MOVIES\n",
    "\n",
    "    * Lowest imdb score \n",
    "            1.AERIALS(2016) :1.5\n",
    "\n"
   ]
  },
  {
   "cell_type": "markdown",
   "id": "363543ce-c96d-4e53-91e2-d92f9a4a38c6",
   "metadata": {},
   "source": [
    "**15. IMDB RATING (SHOWS):**\n",
    "\n",
    "   * Hightest imdb score show\n",
    "\n",
    "            1.#ABtalks(released in 2018): 9.6\n",
    "\n",
    "   * Lowest imdb score show\n",
    "\n",
    "             1.Thomas & Friends: All Engines Go!(2021) :2.0\n",
    "             2.He's Expecting(2022) :2.0\n",
    "\n"
   ]
  },
  {
   "cell_type": "markdown",
   "id": "2464933a-2ff7-498d-a4f0-3a4062b18ffa",
   "metadata": {},
   "source": [
    "**16.COMMON GENRE (MADE BY DIRECTORS):**\n",
    "\n",
    "      * Most common genre\n",
    "             ***Comedy***\n",
    "\n",
    "      * Least common genre\n",
    "             Documentation,Reality and Music\n",
    "(MOVIES)\n",
    "\n",
    "     * Comedy are highly made followed by documentation and drama.\n",
    "     * Movies with animation, family and science fiction are not made much in recent years.\n",
    "\n",
    "(SHOWS)\n",
    "\n",
    "      * Directors prefered to make reality based shows\n",
    "      * And had shown less interest in these genres ['animation', 'comedy', 'family', 'music', 'fantasy', 'european']\n",
    "\n"
   ]
  },
  {
   "cell_type": "markdown",
   "id": "7cab71fa-7cf0-46ec-acb7-4747181c018a",
   "metadata": {},
   "source": [
    "**17. POPULAR GENRE(MOST APPRECIATED BY AUDIENCE):**\n",
    "\n",
    "    1. MOST POPULAR GENRE (BASED ON IMDB SCORE)\n",
    "         Reality\n",
    "        Followed by'drama', 'crime', 'thriller'\n",
    "\n",
    "\n",
    "    2. LEAST POPULAR GENRE (BASED ON IMDB SCORE)\n",
    "         Science Fiction , Drama , Thriller\n",
    "\n",
    "\n",
    "(MOVIES)\n",
    "           * popular = animation\n",
    "           \n",
    "           * least popular = thriller, drama ,science fiction\n",
    "(SHOWS)\n",
    "           * popular = reality\n",
    "           \n",
    "          * least popular =['drama', 'comedy', 'romance', 'fantasy'] \n",
    "\n"
   ]
  },
  {
   "cell_type": "markdown",
   "id": "66bd3016-3441-4c38-b7fc-c8867ce1df6e",
   "metadata": {},
   "source": [
    "**18.TOP 5 COUNTRIES CONTRIBUTING TO NETFLIX CONTENT :**\n",
    "\n",
    "       1.US    [US]\n",
    "       2.INDIA [IN]\n",
    "       3.JAPAN [JP]\n",
    "       4.SOUTH KOREA [KR]\n",
    "       5.GREAT BRITAIN [GB]\n",
    "\n",
    "CONCLUSION : ***US is the largest content producing countries***\n",
    "\n"
   ]
  },
  {
   "cell_type": "markdown",
   "id": "9525bbe8-a062-438f-a2d2-2c1569794381",
   "metadata": {},
   "source": [
    "**19.MOST /LEAST VOTED MOVIE**\n",
    "\n",
    "   * ***Inception*** is most voted movie on IMDB\n",
    "   * The Birth Reborn 2 , Sitara\tand Dear Affy is least voted movie on IMDB\n",
    "\n"
   ]
  },
  {
   "cell_type": "markdown",
   "id": "e16b7622-0615-4945-a99e-d29ea32b36a0",
   "metadata": {},
   "source": [
    "**20. MOST/LEAST VOTED SHOWS**\n",
    "\n",
    "   * ***Breaking Bed*** is most voted show on IMDB\n",
    "   * JAPAN SINKS , The Mystic River and Let's Eat is least voted show on IMDB\n",
    "\n"
   ]
  },
  {
   "cell_type": "markdown",
   "id": "a28a08d9-87f9-4ae4-a061-419861e33778",
   "metadata": {},
   "source": [
    "**21. MOST COMMON MATURITY RATING :**\n",
    "\n",
    "\n",
    "      * TV-MA(ABOVE 17 YEARS)\n",
    "\n"
   ]
  },
  {
   "cell_type": "markdown",
   "id": "bd983497-1adc-4994-84a6-98e7e518d6ac",
   "metadata": {},
   "source": [
    "**22.MOST FREQUENT ACTORS AND ACTRESS**\n",
    "\n",
    "    * Kareena Kapoor Khan is the most frequent actress.\n",
    "    * Boman Irani is the most frequent actor.\n",
    "\n"
   ]
  },
  {
   "cell_type": "markdown",
   "id": "cf04b28c-603e-447a-99df-34ecc4b985a4",
   "metadata": {},
   "source": [
    "**23. TOP 5 ACTOR OR ACTRESS**\n",
    "\n",
    "       1.Kareena Kapoor Khan    \n",
    "       2.Boman Irani            \n",
    "       3.Shah Rukh Khan         \n",
    "       4.Takahiro Sakurai       \n",
    "       5.Amitabh Bachchan\n",
    "\n"
   ]
  },
  {
   "cell_type": "markdown",
   "id": "ad5c2398-149a-423f-8b55-708fe1175db1",
   "metadata": {},
   "source": [
    "**24**. ***Seasons*** is the column with larger number of missing values followed by age_certifications"
   ]
  },
  {
   "cell_type": "code",
   "execution_count": null,
   "id": "cd383344-c406-46e4-8b3a-649c5da6e1b4",
   "metadata": {},
   "outputs": [],
   "source": []
  }
 ],
 "metadata": {
  "kernelspec": {
   "display_name": "Python 3 (ipykernel)",
   "language": "python",
   "name": "python3"
  },
  "language_info": {
   "codemirror_mode": {
    "name": "ipython",
    "version": 3
   },
   "file_extension": ".py",
   "mimetype": "text/x-python",
   "name": "python",
   "nbconvert_exporter": "python",
   "pygments_lexer": "ipython3",
   "version": "3.11.11"
  }
 },
 "nbformat": 4,
 "nbformat_minor": 5
}
